{
 "cells": [
  {
   "cell_type": "code",
   "execution_count": 3,
   "metadata": {},
   "outputs": [
    {
     "name": "stderr",
     "output_type": "stream",
     "text": [
      "/usr/local/lib/python3.7/site-packages/sklearn/externals/joblib/__init__.py:15: FutureWarning: sklearn.externals.joblib is deprecated in 0.21 and will be removed in 0.23. Please import this functionality directly from joblib, which can be installed with: pip install joblib. If this warning is raised when loading pickled models, you may need to re-serialize those models with scikit-learn 0.21+.\n",
      "  warnings.warn(msg, category=FutureWarning)\n"
     ]
    }
   ],
   "source": [
    "import numpy as np\n",
    "import pandas as pd\n",
    "import os\n",
    "import re\n",
    "\n",
    "from sklearn.feature_extraction.text import CountVectorizer\n",
    "from sklearn.linear_model import LogisticRegression\n",
    "from sklearn.metrics import accuracy_score\n",
    "from sklearn.model_selection import train_test_split\n",
    "from sklearn.externals import joblib # save and load model\n",
    "import matplotlib.pyplot as plt\n",
    "from sklearn.metrics import plot_confusion_matrix, f1_score\n"
   ]
  },
  {
   "cell_type": "markdown",
   "metadata": {},
   "source": [
    "We already know Trigram + Remove Stopwords + SVM gives the performance. I also noticed that the test set is quite big, i.e. the same size as the traning set + validation set. So I decided to split some data from the test set to the training set and test the performance."
   ]
  },
  {
   "cell_type": "code",
   "execution_count": 1,
   "metadata": {},
   "outputs": [],
   "source": [
    "reviews_train = []\n",
    "for line in open('../data/movie_data/full_train.txt', 'r'):\n",
    "    \n",
    "    reviews_train.append(line.strip())\n",
    "    \n",
    "reviews_test = []\n",
    "for line in open('../data/movie_data/full_test.txt', 'r'):\n",
    "    \n",
    "    reviews_test.append(line.strip())\n",
    "    \n",
    "target = [1 if i < 12500 else 0 for i in range(25000)]"
   ]
  },
  {
   "cell_type": "code",
   "execution_count": 3,
   "metadata": {},
   "outputs": [],
   "source": [
    "reviews_all = reviews_train + reviews_test\n",
    "target_all  = target + target\n",
    "reviews_X_train, reviews_X_test, reviews_y_train, reviews_y_test = train_test_split(reviews_all, target_all, test_size=0.2, random_state=42)"
   ]
  },
  {
   "cell_type": "code",
   "execution_count": 5,
   "metadata": {},
   "outputs": [
    {
     "data": {
      "text/plain": [
       "1999"
      ]
     },
     "execution_count": 5,
     "metadata": {},
     "output_type": "execute_result"
    }
   ],
   "source": [
    "# Test data from Tieto\n",
    "path = '../data/movie_review_data'\n",
    "classes = ['neg', 'pos']\n",
    "labels    = []\n",
    "test_data_mine = []\n",
    "space = ' '\n",
    "for j in range(len(classes)):\n",
    "  file_list = os.listdir(path+'/'+classes[j])\n",
    "  for i in file_list:\n",
    "    labels.append(j)\n",
    "    comment = open(path+'/'+classes[j]+'/'+i).read()\n",
    "    comment = comment.replace('\\n',' ')\n",
    "    test_data_mine.append(comment)\n",
    "# test_data = np.array(test_data)\n",
    "len(test_data_mine)"
   ]
  },
  {
   "cell_type": "code",
   "execution_count": 4,
   "metadata": {},
   "outputs": [
    {
     "data": {
      "text/html": [
       "<div>\n",
       "<style scoped>\n",
       "    .dataframe tbody tr th:only-of-type {\n",
       "        vertical-align: middle;\n",
       "    }\n",
       "\n",
       "    .dataframe tbody tr th {\n",
       "        vertical-align: top;\n",
       "    }\n",
       "\n",
       "    .dataframe thead th {\n",
       "        text-align: right;\n",
       "    }\n",
       "</style>\n",
       "<table border=\"1\" class=\"dataframe\">\n",
       "  <thead>\n",
       "    <tr style=\"text-align: right;\">\n",
       "      <th></th>\n",
       "      <th>PhraseId</th>\n",
       "      <th>SentenceId</th>\n",
       "      <th>Phrase</th>\n",
       "      <th>Sentiment</th>\n",
       "      <th>Label</th>\n",
       "    </tr>\n",
       "  </thead>\n",
       "  <tbody>\n",
       "    <tr>\n",
       "      <th>0</th>\n",
       "      <td>1</td>\n",
       "      <td>1</td>\n",
       "      <td>A series of escapades demonstrating the adage ...</td>\n",
       "      <td>1</td>\n",
       "      <td>0</td>\n",
       "    </tr>\n",
       "    <tr>\n",
       "      <th>63</th>\n",
       "      <td>64</td>\n",
       "      <td>2</td>\n",
       "      <td>This quiet , introspective and entertaining in...</td>\n",
       "      <td>4</td>\n",
       "      <td>1</td>\n",
       "    </tr>\n",
       "    <tr>\n",
       "      <th>81</th>\n",
       "      <td>82</td>\n",
       "      <td>3</td>\n",
       "      <td>Even fans of Ismail Merchant 's work , I suspe...</td>\n",
       "      <td>1</td>\n",
       "      <td>0</td>\n",
       "    </tr>\n",
       "    <tr>\n",
       "      <th>116</th>\n",
       "      <td>117</td>\n",
       "      <td>4</td>\n",
       "      <td>A positively thrilling combination of ethnogra...</td>\n",
       "      <td>3</td>\n",
       "      <td>1</td>\n",
       "    </tr>\n",
       "    <tr>\n",
       "      <th>156</th>\n",
       "      <td>157</td>\n",
       "      <td>5</td>\n",
       "      <td>Aggressive self-glorification and a manipulati...</td>\n",
       "      <td>1</td>\n",
       "      <td>0</td>\n",
       "    </tr>\n",
       "    <tr>\n",
       "      <th>166</th>\n",
       "      <td>167</td>\n",
       "      <td>6</td>\n",
       "      <td>A comedy-drama of nearly epic proportions root...</td>\n",
       "      <td>4</td>\n",
       "      <td>1</td>\n",
       "    </tr>\n",
       "    <tr>\n",
       "      <th>198</th>\n",
       "      <td>199</td>\n",
       "      <td>7</td>\n",
       "      <td>Narratively , Trouble Every Day is a plodding ...</td>\n",
       "      <td>1</td>\n",
       "      <td>0</td>\n",
       "    </tr>\n",
       "    <tr>\n",
       "      <th>213</th>\n",
       "      <td>214</td>\n",
       "      <td>8</td>\n",
       "      <td>The Importance of Being Earnest , so thick wit...</td>\n",
       "      <td>3</td>\n",
       "      <td>1</td>\n",
       "    </tr>\n",
       "    <tr>\n",
       "      <th>247</th>\n",
       "      <td>248</td>\n",
       "      <td>9</td>\n",
       "      <td>But it does n't leave you with much .</td>\n",
       "      <td>1</td>\n",
       "      <td>0</td>\n",
       "    </tr>\n",
       "    <tr>\n",
       "      <th>259</th>\n",
       "      <td>260</td>\n",
       "      <td>10</td>\n",
       "      <td>You could hate it for the same reason .</td>\n",
       "      <td>1</td>\n",
       "      <td>0</td>\n",
       "    </tr>\n",
       "  </tbody>\n",
       "</table>\n",
       "</div>"
      ],
      "text/plain": [
       "     PhraseId  SentenceId                                             Phrase  \\\n",
       "0           1           1  A series of escapades demonstrating the adage ...   \n",
       "63         64           2  This quiet , introspective and entertaining in...   \n",
       "81         82           3  Even fans of Ismail Merchant 's work , I suspe...   \n",
       "116       117           4  A positively thrilling combination of ethnogra...   \n",
       "156       157           5  Aggressive self-glorification and a manipulati...   \n",
       "166       167           6  A comedy-drama of nearly epic proportions root...   \n",
       "198       199           7  Narratively , Trouble Every Day is a plodding ...   \n",
       "213       214           8  The Importance of Being Earnest , so thick wit...   \n",
       "247       248           9              But it does n't leave you with much .   \n",
       "259       260          10            You could hate it for the same reason .   \n",
       "\n",
       "     Sentiment  Label  \n",
       "0            1      0  \n",
       "63           4      1  \n",
       "81           1      0  \n",
       "116          3      1  \n",
       "156          1      0  \n",
       "166          4      1  \n",
       "198          1      0  \n",
       "213          3      1  \n",
       "247          1      0  \n",
       "259          1      0  "
      ]
     },
     "execution_count": 4,
     "metadata": {},
     "output_type": "execute_result"
    }
   ],
   "source": [
    "# Rotten Tomato Data, only training set has labels\n",
    "rotten_tomato_train = pd.read_csv('../data/rottenTomatoes/train.tsv', sep = '\\t')\n",
    "rotten_tomato_test  = pd.read_csv('../data/rottenTomatoes/test.tsv', sep = '\\t')\n",
    "rotten_tomato_train.drop_duplicates(subset = ['SentenceId'], keep='first', inplace = True)\n",
    "rotten_tomato_test.drop_duplicates(subset = ['SentenceId'], keep='first', inplace = True)\n",
    "rotten_tomato_train = rotten_tomato_train[~rotten_tomato_train['Sentiment'].isin([2])]\n",
    "rotten_tomato_train['Label'] = rotten_tomato_train['Sentiment'].apply(lambda x: 1 if x>2 else 0)\n",
    "rotten_tomato_train_x = list(rotten_tomato_train['Phrase'])\n",
    "rotten_tomato_train_y = list(rotten_tomato_train['Label'])\n",
    "rotten_tomato_train.head(10)"
   ]
  },
  {
   "cell_type": "code",
   "execution_count": 7,
   "metadata": {},
   "outputs": [],
   "source": [
    "# Preprocessing using regular expressions\n",
    "\n",
    "REPLACE_NO_SPACE = re.compile(\"(\\.)|(\\;)|(\\:)|(\\!)|(\\?)|(\\,)|(\\\")|(\\()|(\\))|(\\[)|(\\])|(\\d+)\")\n",
    "REPLACE_WITH_SPACE = re.compile(\"(<br\\s*/><br\\s*/>)|(\\-)|(\\/)\")\n",
    "NO_SPACE = \"\"\n",
    "SPACE = \" \"\n",
    "\n",
    "# Replace the abbreviation with the complete words\n",
    "def _replacer(text):\n",
    "    replacement_patterns = [\n",
    "        (r'won\\'t', 'will not'),\n",
    "        (r'can\\'t', 'cannot'),\n",
    "        (r'i\\'m', 'i am'),\n",
    "        (r'ain\\'t', 'is not'),\n",
    "        (r'(\\w+)\\'ll', r'\\g<1> will'),\n",
    "        (r'(\\w+)n\\'t', r'\\g<1> not'),\n",
    "        (r'(\\w+)\\'ve', r'\\g<1> have'),\n",
    "        (r'(\\w+)\\'s', r'\\g<1> is'),\n",
    "        (r'(\\w+)\\'re', r'\\g<1> are'),\n",
    "        (r'(\\w+)\\'d', r'\\g<1> would')]\n",
    "    patterns = [(re.compile(regex), repl) for (regex, repl) in replacement_patterns]\n",
    "    s = text\n",
    "    for (pattern, repl) in patterns:\n",
    "        (s, _) = re.subn(pattern, repl, s)\n",
    "    return s\n",
    "\n",
    "def preprocess_reviews(reviews):\n",
    "    \n",
    "    reviews = [REPLACE_NO_SPACE.sub(NO_SPACE, line.lower()) for line in reviews]\n",
    "    reviews = [REPLACE_WITH_SPACE.sub(SPACE, line) for line in reviews]\n",
    "    reviews = [_replacer(line) for line in reviews]\n",
    "    \n",
    "    return reviews"
   ]
  },
  {
   "cell_type": "code",
   "execution_count": 8,
   "metadata": {},
   "outputs": [],
   "source": [
    "reviews_train_clean = preprocess_reviews(reviews_X_train)\n",
    "reviews_test_clean = preprocess_reviews(reviews_X_test)\n",
    "rotten_tomato_clean = preprocess_reviews(rotten_tomato_train_x)"
   ]
  },
  {
   "cell_type": "code",
   "execution_count": 9,
   "metadata": {},
   "outputs": [
    {
     "data": {
      "text/plain": [
       "['i do not like this']"
      ]
     },
     "execution_count": 9,
     "metadata": {},
     "output_type": "execute_result"
    }
   ],
   "source": [
    "# Manually check the effect\n",
    "preprocess_reviews(['I don\\'t like this'])"
   ]
  },
  {
   "cell_type": "markdown",
   "metadata": {},
   "source": [
    "# Baseline "
   ]
  },
  {
   "cell_type": "markdown",
   "metadata": {},
   "source": [
    "## CountVectorizer + Logistic Regression"
   ]
  },
  {
   "cell_type": "code",
   "execution_count": 39,
   "metadata": {},
   "outputs": [
    {
     "name": "stdout",
     "output_type": "stream",
     "text": [
      "Accuracy for C=0.01: 0.8843\n",
      "F1 Score: 0.884265279583875\n",
      "Accuracy for C=0.05: 0.8925\n",
      "F1 Score: 0.8924031628465618\n",
      "Accuracy for C=0.25: 0.8923\n",
      "F1 Score: 0.8920300751879698\n",
      "Accuracy for C=0.5: 0.8893\n",
      "F1 Score: 0.889000300812193\n",
      "Accuracy for C=1: 0.8862\n",
      "F1 Score: 0.8857659104597471\n",
      "Final Accuracy: 0.895\n",
      "F1 Score: 0.8961013259449833\n"
     ]
    }
   ],
   "source": [
    "baseline_vectorizer = CountVectorizer(binary=True)\n",
    "baseline_vectorizer.fit(reviews_train_clean)\n",
    "X_baseline = baseline_vectorizer.transform(reviews_train_clean)\n",
    "X_test_baseline = baseline_vectorizer.transform(reviews_test_clean)\n",
    "\n",
    "X_train, X_val, y_train, y_val = train_test_split(\n",
    "    X_baseline, reviews_y_train, train_size = 0.75\n",
    ")\n",
    "\n",
    "for c in [0.01, 0.05, 0.25, 0.5, 1]:\n",
    "    \n",
    "    lr = LogisticRegression(C=c, max_iter = 200, n_jobs =8)\n",
    "    lr.fit(X_train, y_train)\n",
    "    print (\"Accuracy for C=%s: %s\" \n",
    "           % (c, accuracy_score(y_val, lr.predict(X_val))))\n",
    "    print ('F1 Score: {}'.format(f1_score(y_val, lr.predict(X_val))))\n",
    "\n",
    "final_model = LogisticRegression(C=0.05, max_iter = 200, n_jobs =8)\n",
    "final_model.fit(X_baseline, reviews_y_train)\n",
    "print (\"Final Accuracy: %s\" \n",
    "       % accuracy_score(reviews_y_test, final_model.predict(X_test_baseline)))\n",
    "print ('F1 Score: {}'.format(f1_score(reviews_y_test, final_model.predict(X_test_baseline))))\n"
   ]
  },
  {
   "cell_type": "code",
   "execution_count": 40,
   "metadata": {},
   "outputs": [
    {
     "name": "stdout",
     "output_type": "stream",
     "text": [
      "Confusion matrix, without normalization\n",
      "[[4422  523]\n",
      " [ 527 4528]]\n",
      "Normalized confusion matrix\n",
      "[[0.8942366  0.1057634 ]\n",
      " [0.10425321 0.89574679]]\n"
     ]
    },
    {
     "data": {
      "image/png": "[encoded data removed]",
      "text/plain": [
       "<Figure size 432x288 with 2 Axes>"
      ]
     },
     "metadata": {
      "needs_background": "light"
     },
     "output_type": "display_data"
    },
    {
     "data": {
      "image/png": "[encoded data removed]",
      "text/plain": [
       "<Figure size 432x288 with 2 Axes>"
      ]
     },
     "metadata": {
      "needs_background": "light"
     },
     "output_type": "display_data"
    }
   ],
   "source": [
    "# Plot non-normalized confusion matrix\n",
    "titles_options = [(\"Confusion matrix, without normalization\", None),\n",
    "                  (\"Normalized confusion matrix\", 'true')]\n",
    "for title, normalize in titles_options:\n",
    "    disp = plot_confusion_matrix(final_model, X_test_baseline, reviews_y_test,\n",
    "#                                  display_labels=class_names,\n",
    "                                 cmap=plt.cm.Blues,\n",
    "                                 normalize=normalize)\n",
    "    disp.ax_.set_title(title)\n",
    "\n",
    "    print(title)\n",
    "    print(disp.confusion_matrix)\n",
    "\n",
    "plt.show()"
   ]
  },
  {
   "cell_type": "markdown",
   "metadata": {},
   "source": [
    "Splitting more data from test set to training set does help improve the performance."
   ]
  },
  {
   "cell_type": "code",
   "execution_count": 41,
   "metadata": {},
   "outputs": [
    {
     "name": "stdout",
     "output_type": "stream",
     "text": [
      "ACC: 0.8839419709854928\n",
      "F1 Score: 0.8846918489065606\n",
      "Confusion matrix, without normalization\n",
      "[[877 122]\n",
      " [110 890]]\n",
      "Normalized confusion matrix\n",
      "[[0.87787788 0.12212212]\n",
      " [0.11       0.89      ]]\n"
     ]
    },
    {
     "data": {
      "image/png": "[encoded data removed]",
      "text/plain": [
       "<Figure size 432x288 with 2 Axes>"
      ]
     },
     "metadata": {
      "needs_background": "light"
     },
     "output_type": "display_data"
    },
    {
     "data": {
      "image/png": "[encoded data removed]",
      "text/plain": [
       "<Figure size 432x288 with 2 Axes>"
      ]
     },
     "metadata": {
      "needs_background": "light"
     },
     "output_type": "display_data"
    }
   ],
   "source": [
    "# Test with Tieto Data\n",
    "test = preprocess_reviews(test_data_mine)\n",
    "test = baseline_vectorizer.transform(test)\n",
    "print('ACC: {}'.format(accuracy_score(labels, final_model.predict(test))))\n",
    "print ('F1 Score: {}'.format(f1_score(labels, final_model.predict(test))))\n",
    "\n",
    "\n",
    "# Plot non-normalized confusion matrix of tieto data\n",
    "titles_options = [(\"Confusion matrix, without normalization\", None),\n",
    "                  (\"Normalized confusion matrix\", 'true')]\n",
    "for title, normalize in titles_options:\n",
    "    disp = plot_confusion_matrix(final_model, test,labels,\n",
    "#                                  display_labels=class_names,\n",
    "                                 cmap=plt.cm.Blues,\n",
    "                                 normalize=normalize)\n",
    "    disp.ax_.set_title(title)\n",
    "\n",
    "    print(title)\n",
    "    print(disp.confusion_matrix)\n",
    "\n",
    "plt.show()"
   ]
  },
  {
   "cell_type": "code",
   "execution_count": 42,
   "metadata": {},
   "outputs": [
    {
     "name": "stdout",
     "output_type": "stream",
     "text": [
      "ACC: 0.7160314227524004\n",
      "F1 Score: 0.7695939565627951\n",
      "Confusion matrix, without normalization\n",
      "[[1662 1610]\n",
      " [ 342 3260]]\n",
      "Normalized confusion matrix\n",
      "[[0.50794621 0.49205379]\n",
      " [0.09494725 0.90505275]]\n"
     ]
    },
    {
     "data": {
      "image/png": "[encoded data removed]",
      "text/plain": [
       "<Figure size 432x288 with 2 Axes>"
      ]
     },
     "metadata": {
      "needs_background": "light"
     },
     "output_type": "display_data"
    },
    {
     "data": {
      "image/png": "[encoded data removed]",
      "text/plain": [
       "<Figure size 432x288 with 2 Axes>"
      ]
     },
     "metadata": {
      "needs_background": "light"
     },
     "output_type": "display_data"
    }
   ],
   "source": [
    "# Plot non-normalized confusion matrix of rotten tomato data\n",
    "rotten_tomato = baseline_vectorizer.transform(rotten_tomato_clean)\n",
    "print('ACC: {}'.format(accuracy_score(rotten_tomato_train_y, final_model.predict(rotten_tomato))))\n",
    "print ('F1 Score: {}'.format(f1_score(rotten_tomato_train_y, final_model.predict(rotten_tomato))))\n",
    "titles_options = [(\"Confusion matrix, without normalization\", None),\n",
    "                  (\"Normalized confusion matrix\", 'true')]\n",
    "for title, normalize in titles_options:\n",
    "    disp = plot_confusion_matrix(final_model, rotten_tomato,rotten_tomato_train_y,\n",
    "#                                  display_labels=class_names,\n",
    "                                 cmap=plt.cm.Blues,\n",
    "                                 normalize=normalize)\n",
    "    disp.ax_.set_title(title)\n",
    "\n",
    "    print(title)\n",
    "    print(disp.confusion_matrix)\n",
    "\n",
    "plt.show()"
   ]
  },
  {
   "cell_type": "markdown",
   "metadata": {},
   "source": [
    "# Final Model"
   ]
  },
  {
   "cell_type": "code",
   "execution_count": 15,
   "metadata": {
    "scrolled": true
   },
   "outputs": [
    {
     "name": "stdout",
     "output_type": "stream",
     "text": [
      "Accuracy for C=0.001: 0.9011\n",
      "F1 Score: 0.9016605349507806\n",
      "Accuracy for C=0.005: 0.9074\n",
      "F1 Score: 0.9079339828991848\n",
      "Accuracy for C=0.01: 0.9073\n",
      "F1 Score: 0.9077520151258831\n",
      "Accuracy for C=0.05: 0.9066\n",
      "F1 Score: 0.9069350338780391\n",
      "Accuracy for C=0.1: 0.9063\n",
      "F1 Score: 0.9065895723257901\n",
      "Final Accuracy: 0.9099\n",
      "F1 Score: 0.9111352204359405\n"
     ]
    }
   ],
   "source": [
    "from sklearn.feature_extraction.text import CountVectorizer\n",
    "from sklearn.model_selection import train_test_split\n",
    "from sklearn.metrics import accuracy_score\n",
    "from sklearn.svm import LinearSVC\n",
    "\n",
    "\n",
    "stop_words = ['in', 'of', 'at', 'a', 'the']\n",
    "ngram_vectorizer = CountVectorizer(binary=True, ngram_range=(1, 3), stop_words=stop_words)\n",
    "ngram_vectorizer.fit(reviews_train_clean)\n",
    "X = ngram_vectorizer.transform(reviews_train_clean)\n",
    "X_test = ngram_vectorizer.transform(reviews_test_clean)\n",
    "\n",
    "X_train, X_val, y_train, y_val = train_test_split(\n",
    "    X, reviews_y_train, train_size = 0.75\n",
    ")\n",
    "\n",
    "for c in [0.001, 0.005, 0.01, 0.05, 0.1]:\n",
    "    \n",
    "    svm = LinearSVC(C=c)\n",
    "    svm.fit(X_train, y_train)\n",
    "    print (\"Accuracy for C=%s: %s\" \n",
    "           % (c, accuracy_score(y_val, svm.predict(X_val))))\n",
    "    print ('F1 Score: {}'.format(f1_score(y_val, svm.predict(X_val))))\n",
    "    \n",
    "final = LinearSVC(C=0.01)\n",
    "final.fit(X, reviews_y_train)\n",
    "print (\"Final Accuracy: %s\" \n",
    "       % accuracy_score(reviews_y_test, final.predict(X_test)))\n",
    "print ('F1 Score: {}'.format(f1_score(reviews_y_test, final.predict(X_test))))"
   ]
  },
  {
   "cell_type": "code",
   "execution_count": 17,
   "metadata": {},
   "outputs": [
    {
     "name": "stdout",
     "output_type": "stream",
     "text": [
      "Confusion matrix, without normalization\n",
      "[[4480  465]\n",
      " [ 436 4619]]\n",
      "Normalized confusion matrix\n",
      "[[0.90596562 0.09403438]\n",
      " [0.08625124 0.91374876]]\n"
     ]
    },
    {
     "data": {
      "image/png": "[encoded data removed]",
      "text/plain": [
       "<Figure size 432x288 with 2 Axes>"
      ]
     },
     "metadata": {
      "needs_background": "light"
     },
     "output_type": "display_data"
    },
    {
     "data": {
      "image/png": "[encoded data removed]",
      "text/plain": [
       "<Figure size 432x288 with 2 Axes>"
      ]
     },
     "metadata": {
      "needs_background": "light"
     },
     "output_type": "display_data"
    }
   ],
   "source": [
    "# Plot non-normalized confusion matrix\n",
    "titles_options = [(\"Confusion matrix, without normalization\", None),\n",
    "                  (\"Normalized confusion matrix\", 'true')]\n",
    "for title, normalize in titles_options:\n",
    "    disp = plot_confusion_matrix(final, X_test, reviews_y_test,\n",
    "#                                  display_labels=class_names,\n",
    "                                 cmap=plt.cm.Blues,\n",
    "                                 normalize=normalize)\n",
    "    disp.ax_.set_title(title)\n",
    "\n",
    "    print(title)\n",
    "    print(disp.confusion_matrix)\n",
    "\n",
    "plt.show()"
   ]
  },
  {
   "cell_type": "code",
   "execution_count": 18,
   "metadata": {},
   "outputs": [
    {
     "name": "stdout",
     "output_type": "stream",
     "text": [
      "Final Accuracy: 0.7109397730578993\n",
      "F1 Score: 0.7706866705135602\n",
      "Confusion matrix, without normalization\n",
      "[[1548 1724]\n",
      " [ 263 3339]]\n",
      "Normalized confusion matrix\n",
      "[[0.47310513 0.52689487]\n",
      " [0.07301499 0.92698501]]\n"
     ]
    },
    {
     "data": {
      "image/png": "[encoded data removed]",
      "text/plain": [
       "<Figure size 432x288 with 2 Axes>"
      ]
     },
     "metadata": {
      "needs_background": "light"
     },
     "output_type": "display_data"
    },
    {
     "data": {
      "image/png": "[encoded data removed]",
      "text/plain": [
       "<Figure size 432x288 with 2 Axes>"
      ]
     },
     "metadata": {
      "needs_background": "light"
     },
     "output_type": "display_data"
    }
   ],
   "source": [
    "# Plot non-normalized confusion matrix of rotten tomato data\n",
    "\n",
    "rotten_tomato = ngram_vectorizer.transform(rotten_tomato_clean)\n",
    "print (\"Final Accuracy: %s\" \n",
    "       % accuracy_score(rotten_tomato_train_y, final.predict(rotten_tomato)))\n",
    "print ('F1 Score: {}'.format(f1_score(rotten_tomato_train_y, final.predict(rotten_tomato))))\n",
    "titles_options = [(\"Confusion matrix, without normalization\", None),\n",
    "                  (\"Normalized confusion matrix\", 'true')]\n",
    "for title, normalize in titles_options:\n",
    "    disp = plot_confusion_matrix(final, rotten_tomato,rotten_tomato_train_y,\n",
    "#                                  display_labels=class_names,\n",
    "                                 cmap=plt.cm.Blues,\n",
    "                                 normalize=normalize)\n",
    "    disp.ax_.set_title(title)\n",
    "\n",
    "    print(title)\n",
    "    print(disp.confusion_matrix)\n",
    "\n",
    "plt.show()"
   ]
  },
  {
   "cell_type": "code",
   "execution_count": 19,
   "metadata": {},
   "outputs": [
    {
     "name": "stdout",
     "output_type": "stream",
     "text": [
      "ACC: 0.9069534767383692\n",
      "F1 Score: 0.9065326633165829\n",
      "Confusion matrix, without normalization\n",
      "[[911  88]\n",
      " [ 98 902]]\n",
      "Normalized confusion matrix\n",
      "[[0.91191191 0.08808809]\n",
      " [0.098      0.902     ]]\n"
     ]
    },
    {
     "data": {
      "image/png": "[encoded data removed]",
      "text/plain": [
       "<Figure size 432x288 with 2 Axes>"
      ]
     },
     "metadata": {
      "needs_background": "light"
     },
     "output_type": "display_data"
    },
    {
     "data": {
      "image/png": "[encoded data removed]",
      "text/plain": [
       "<Figure size 432x288 with 2 Axes>"
      ]
     },
     "metadata": {
      "needs_background": "light"
     },
     "output_type": "display_data"
    }
   ],
   "source": [
    "# Test with Tieto Data\n",
    "test = preprocess_reviews(test_data_mine)\n",
    "test = ngram_vectorizer.transform(test)\n",
    "print('ACC: {}'.format(accuracy_score(labels, final.predict(test))))\n",
    "print ('F1 Score: {}'.format(f1_score(labels, final.predict(test))))\n",
    "\n",
    "# Plot non-normalized confusion matrix of tieto data\n",
    "titles_options = [(\"Confusion matrix, without normalization\", None),\n",
    "                  (\"Normalized confusion matrix\", 'true')]\n",
    "for title, normalize in titles_options:\n",
    "    disp = plot_confusion_matrix(final, test,labels,\n",
    "#                                  display_labels=class_names,\n",
    "                                 cmap=plt.cm.Blues,\n",
    "                                 normalize=normalize)\n",
    "    disp.ax_.set_title(title)\n",
    "\n",
    "    print(title)\n",
    "    print(disp.confusion_matrix)\n",
    "\n",
    "plt.show()\n"
   ]
  },
  {
   "cell_type": "code",
   "execution_count": 20,
   "metadata": {},
   "outputs": [
    {
     "data": {
      "text/plain": [
       "['vectorizer_b.m']"
      ]
     },
     "execution_count": 20,
     "metadata": {},
     "output_type": "execute_result"
    }
   ],
   "source": [
    "# Save model\n",
    "joblib.dump(final, \"final_model_b.m\")\n",
    "joblib.dump(ngram_vectorizer, 'vectorizer_b.m')"
   ]
  },
  {
   "cell_type": "code",
   "execution_count": 23,
   "metadata": {},
   "outputs": [
    {
     "name": "stderr",
     "output_type": "stream",
     "text": [
      "/usr/local/lib/python3.7/site-packages/sklearn/utils/deprecation.py:144: FutureWarning: The sklearn.svm.classes module is  deprecated in version 0.22 and will be removed in version 0.24. The corresponding classes / functions should instead be imported from sklearn.svm. Anything that cannot be imported from sklearn.svm is now part of the private API.\n",
      "  warnings.warn(message, FutureWarning)\n",
      "/usr/local/lib/python3.7/site-packages/sklearn/base.py:318: UserWarning: Trying to unpickle estimator LinearSVC from version 0.21.2 when using version 0.22. This might lead to breaking code or invalid results. Use at your own risk.\n",
      "  UserWarning)\n",
      "/usr/local/lib/python3.7/site-packages/sklearn/base.py:318: UserWarning: Trying to unpickle estimator CountVectorizer from version 0.21.2 when using version 0.22. This might lead to breaking code or invalid results. Use at your own risk.\n",
      "  UserWarning)\n"
     ]
    },
    {
     "data": {
      "text/plain": [
       "0.8994497248624312"
      ]
     },
     "execution_count": 23,
     "metadata": {},
     "output_type": "execute_result"
    }
   ],
   "source": [
    "# load model and predict\n",
    "clf = joblib.load(\"final_model.m\")\n",
    "ngram_vectorizer = joblib.load(\"vectorizer.m\")\n",
    "\n",
    "test = preprocess_reviews(test_data_mine)\n",
    "test = ngram_vectorizer.transform(test)\n",
    "accuracy_score(labels, clf.predict(test))"
   ]
  },
  {
   "cell_type": "code",
   "execution_count": 24,
   "metadata": {},
   "outputs": [
    {
     "name": "stdout",
     "output_type": "stream",
     "text": [
      "['i do not like this movie']\n"
     ]
    },
    {
     "ename": "ValueError",
     "evalue": "X has 5299522 features per sample; expecting 7843645",
     "output_type": "error",
     "traceback": [
      "\u001b[0;31m---------------------------------------------------------------------------\u001b[0m",
      "\u001b[0;31mValueError\u001b[0m                                Traceback (most recent call last)",
      "\u001b[0;32m<ipython-input-24-16e13e17f204>\u001b[0m in \u001b[0;36m<module>\u001b[0;34m\u001b[0m\n\u001b[1;32m      4\u001b[0m \u001b[0mprint\u001b[0m\u001b[0;34m(\u001b[0m\u001b[0mtest\u001b[0m\u001b[0;34m)\u001b[0m\u001b[0;34m\u001b[0m\u001b[0;34m\u001b[0m\u001b[0m\n\u001b[1;32m      5\u001b[0m \u001b[0mtest\u001b[0m \u001b[0;34m=\u001b[0m \u001b[0mngram_vectorizer\u001b[0m\u001b[0;34m.\u001b[0m\u001b[0mtransform\u001b[0m\u001b[0;34m(\u001b[0m\u001b[0mtest\u001b[0m\u001b[0;34m)\u001b[0m\u001b[0;34m\u001b[0m\u001b[0;34m\u001b[0m\u001b[0m\n\u001b[0;32m----> 6\u001b[0;31m \u001b[0mprint\u001b[0m\u001b[0;34m(\u001b[0m\u001b[0mfinal\u001b[0m\u001b[0;34m.\u001b[0m\u001b[0mpredict\u001b[0m\u001b[0;34m(\u001b[0m\u001b[0mtest\u001b[0m\u001b[0;34m)\u001b[0m\u001b[0;34m)\u001b[0m\u001b[0;34m\u001b[0m\u001b[0;34m\u001b[0m\u001b[0m\n\u001b[0m\u001b[1;32m      7\u001b[0m \u001b[0;34m\u001b[0m\u001b[0m\n\u001b[1;32m      8\u001b[0m \u001b[0mtest\u001b[0m \u001b[0;34m=\u001b[0m \u001b[0;34m\"I like this movie!\"\u001b[0m\u001b[0;34m\u001b[0m\u001b[0;34m\u001b[0m\u001b[0m\n",
      "\u001b[0;32m/usr/local/lib/python3.7/site-packages/sklearn/linear_model/_base.py\u001b[0m in \u001b[0;36mpredict\u001b[0;34m(self, X)\u001b[0m\n\u001b[1;32m    291\u001b[0m             \u001b[0mPredicted\u001b[0m \u001b[0;32mclass\u001b[0m \u001b[0mlabel\u001b[0m \u001b[0mper\u001b[0m \u001b[0msample\u001b[0m\u001b[0;34m.\u001b[0m\u001b[0;34m\u001b[0m\u001b[0;34m\u001b[0m\u001b[0m\n\u001b[1;32m    292\u001b[0m         \"\"\"\n\u001b[0;32m--> 293\u001b[0;31m         \u001b[0mscores\u001b[0m \u001b[0;34m=\u001b[0m \u001b[0mself\u001b[0m\u001b[0;34m.\u001b[0m\u001b[0mdecision_function\u001b[0m\u001b[0;34m(\u001b[0m\u001b[0mX\u001b[0m\u001b[0;34m)\u001b[0m\u001b[0;34m\u001b[0m\u001b[0;34m\u001b[0m\u001b[0m\n\u001b[0m\u001b[1;32m    294\u001b[0m         \u001b[0;32mif\u001b[0m \u001b[0mlen\u001b[0m\u001b[0;34m(\u001b[0m\u001b[0mscores\u001b[0m\u001b[0;34m.\u001b[0m\u001b[0mshape\u001b[0m\u001b[0;34m)\u001b[0m \u001b[0;34m==\u001b[0m \u001b[0;36m1\u001b[0m\u001b[0;34m:\u001b[0m\u001b[0;34m\u001b[0m\u001b[0;34m\u001b[0m\u001b[0m\n\u001b[1;32m    295\u001b[0m             \u001b[0mindices\u001b[0m \u001b[0;34m=\u001b[0m \u001b[0;34m(\u001b[0m\u001b[0mscores\u001b[0m \u001b[0;34m>\u001b[0m \u001b[0;36m0\u001b[0m\u001b[0;34m)\u001b[0m\u001b[0;34m.\u001b[0m\u001b[0mastype\u001b[0m\u001b[0;34m(\u001b[0m\u001b[0mnp\u001b[0m\u001b[0;34m.\u001b[0m\u001b[0mint\u001b[0m\u001b[0;34m)\u001b[0m\u001b[0;34m\u001b[0m\u001b[0;34m\u001b[0m\u001b[0m\n",
      "\u001b[0;32m/usr/local/lib/python3.7/site-packages/sklearn/linear_model/_base.py\u001b[0m in \u001b[0;36mdecision_function\u001b[0;34m(self, X)\u001b[0m\n\u001b[1;32m    271\u001b[0m         \u001b[0;32mif\u001b[0m \u001b[0mX\u001b[0m\u001b[0;34m.\u001b[0m\u001b[0mshape\u001b[0m\u001b[0;34m[\u001b[0m\u001b[0;36m1\u001b[0m\u001b[0;34m]\u001b[0m \u001b[0;34m!=\u001b[0m \u001b[0mn_features\u001b[0m\u001b[0;34m:\u001b[0m\u001b[0;34m\u001b[0m\u001b[0;34m\u001b[0m\u001b[0m\n\u001b[1;32m    272\u001b[0m             raise ValueError(\"X has %d features per sample; expecting %d\"\n\u001b[0;32m--> 273\u001b[0;31m                              % (X.shape[1], n_features))\n\u001b[0m\u001b[1;32m    274\u001b[0m \u001b[0;34m\u001b[0m\u001b[0m\n\u001b[1;32m    275\u001b[0m         scores = safe_sparse_dot(X, self.coef_.T,\n",
      "\u001b[0;31mValueError\u001b[0m: X has 5299522 features per sample; expecting 7843645"
     ]
    }
   ],
   "source": [
    "# Manual Check\n",
    "test = \"I don't like this movie!\"\n",
    "test = preprocess_reviews([test])\n",
    "print(test)\n",
    "test = ngram_vectorizer.transform(test)\n",
    "print(final.predict(test))\n",
    "\n",
    "test = \"I like this movie!\"\n",
    "test = preprocess_reviews([test])\n",
    "print(test)\n",
    "test = ngram_vectorizer.transform(test)\n",
    "print(final.predict(test))\n",
    "\n",
    "test = \"I do like this movie!\"\n",
    "test = preprocess_reviews([test])\n",
    "print(test)\n",
    "test = ngram_vectorizer.transform(test)\n",
    "print(final.predict(test))\n",
    "\n",
    "test = \"I hate this movie!\"\n",
    "test = preprocess_reviews([test])\n",
    "print(test)\n",
    "test = ngram_vectorizer.transform(test)\n",
    "print(final.predict(test))"
   ]
  },
  {
   "cell_type": "markdown",
   "metadata": {},
   "source": [
    "## Change the number of features for each review"
   ]
  },
  {
   "cell_type": "code",
   "execution_count": 35,
   "metadata": {},
   "outputs": [
    {
     "name": "stdout",
     "output_type": "stream",
     "text": [
      "Accuracy for C=0.001: 0.9001\n",
      "F1 Score: 0.8996887237674465\n",
      "Accuracy for C=0.005: 0.9067\n",
      "F1 Score: 0.9059949622166246\n",
      "Accuracy for C=0.01: 0.9046\n",
      "F1 Score: 0.9037918515530454\n",
      "Accuracy for C=0.05: 0.9024\n",
      "F1 Score: 0.9014141414141413\n",
      "Accuracy for C=0.1: 0.901\n",
      "F1 Score: 0.8999191265669226\n",
      "Final Accuracy: 0.9082\n",
      "F1 Score: 0.9093422871815129\n"
     ]
    }
   ],
   "source": [
    "from sklearn.feature_extraction.text import CountVectorizer\n",
    "from sklearn.model_selection import train_test_split\n",
    "from sklearn.metrics import accuracy_score\n",
    "from sklearn.svm import LinearSVC\n",
    "\n",
    "\n",
    "stop_words = ['in', 'of', 'at', 'a', 'the']\n",
    "ngram_vectorizer = CountVectorizer(binary=True, ngram_range=(1, 3), stop_words=stop_words, max_features = 500000)\n",
    "ngram_vectorizer.fit(reviews_train_clean)\n",
    "X = ngram_vectorizer.transform(reviews_train_clean)\n",
    "X_test = ngram_vectorizer.transform(reviews_test_clean)\n",
    "\n",
    "X_train, X_val, y_train, y_val = train_test_split(\n",
    "    X, reviews_y_train, train_size = 0.75\n",
    ")\n",
    "\n",
    "for c in [0.001, 0.005, 0.01, 0.05, 0.1]:\n",
    "    \n",
    "    svm = LinearSVC(C=c)\n",
    "    svm.fit(X_train, y_train)\n",
    "    print (\"Accuracy for C=%s: %s\" \n",
    "           % (c, accuracy_score(y_val, svm.predict(X_val))))\n",
    "    print ('F1 Score: {}'.format(f1_score(y_val, svm.predict(X_val))))\n",
    "    \n",
    "final = LinearSVC(C=0.01)\n",
    "final.fit(X, reviews_y_train)\n",
    "print (\"Final Accuracy: %s\" \n",
    "       % accuracy_score(reviews_y_test, final.predict(X_test)))\n",
    "print ('F1 Score: {}'.format(f1_score(reviews_y_test, final.predict(X_test))))\n"
   ]
  },
  {
   "cell_type": "code",
   "execution_count": 36,
   "metadata": {},
   "outputs": [
    {
     "data": {
      "text/plain": [
       "500000"
      ]
     },
     "execution_count": 36,
     "metadata": {},
     "output_type": "execute_result"
    }
   ],
   "source": [
    "# Checking the size of the features\n",
    "len(ngram_vectorizer.vocabulary_)"
   ]
  },
  {
   "cell_type": "code",
   "execution_count": 37,
   "metadata": {},
   "outputs": [
    {
     "name": "stdout",
     "output_type": "stream",
     "text": [
      "ACC: 0.9064532266133066\n",
      "F1 Score: 0.9059829059829061\n",
      "Confusion matrix, without normalization\n",
      "[[911  88]\n",
      " [ 99 901]]\n",
      "Normalized confusion matrix\n",
      "[[0.91191191 0.08808809]\n",
      " [0.099      0.901     ]]\n"
     ]
    },
    {
     "data": {
      "image/png": "[encoded data removed]",
      "text/plain": [
       "<Figure size 432x288 with 2 Axes>"
      ]
     },
     "metadata": {
      "needs_background": "light"
     },
     "output_type": "display_data"
    },
    {
     "data": {
      "image/png": "[encoded data removed]",
      "text/plain": [
       "<Figure size 432x288 with 2 Axes>"
      ]
     },
     "metadata": {
      "needs_background": "light"
     },
     "output_type": "display_data"
    }
   ],
   "source": [
    "# Test with Tieto Data\n",
    "test = preprocess_reviews(test_data_mine)\n",
    "test = ngram_vectorizer.transform(test)\n",
    "print('ACC: {}'.format(accuracy_score(labels, final.predict(test))))\n",
    "print ('F1 Score: {}'.format(f1_score(labels, final.predict(test))))\n",
    "\n",
    "# Plot non-normalized confusion matrix of tieto data\n",
    "titles_options = [(\"Confusion matrix, without normalization\", None),\n",
    "                  (\"Normalized confusion matrix\", 'true')]\n",
    "for title, normalize in titles_options:\n",
    "    disp = plot_confusion_matrix(final, test,labels,\n",
    "#                                  display_labels=class_names,\n",
    "                                 cmap=plt.cm.Blues,\n",
    "                                 normalize=normalize)\n",
    "    disp.ax_.set_title(title)\n",
    "\n",
    "    print(title)\n",
    "    print(disp.confusion_matrix)\n",
    "\n",
    "plt.show()\n"
   ]
  },
  {
   "cell_type": "markdown",
   "metadata": {},
   "source": [
    "It seems that by only considering 500000 features we can get more or less the same performance. Hence we can reduce the size our vocabulary from 5299522 to 500000, which can speed up the loading and computation a lot!"
   ]
  },
  {
   "cell_type": "code",
   "execution_count": 38,
   "metadata": {},
   "outputs": [
    {
     "data": {
      "text/plain": [
       "['vectorizer_small.m']"
      ]
     },
     "execution_count": 38,
     "metadata": {},
     "output_type": "execute_result"
    }
   ],
   "source": [
    "# Save model\n",
    "joblib.dump(final, \"final_model_small.m\")\n",
    "joblib.dump(ngram_vectorizer, 'vectorizer_small.m')"
   ]
  },
  {
   "cell_type": "markdown",
   "metadata": {},
   "source": [
    "# Top Postitive and Negative Features"
   ]
  },
  {
   "cell_type": "code",
   "execution_count": 22,
   "metadata": {},
   "outputs": [
    {
     "name": "stdout",
     "output_type": "stream",
     "text": [
      "('excellent', 0.2484980043366227)\n",
      "('perfect', 0.1974451898028097)\n",
      "('great', 0.1839051187105768)\n",
      "('amazing', 0.17830906463025972)\n",
      "('wonderful', 0.17535317727383767)\n",
      "('enjoyable', 0.17512887695745086)\n",
      "('superb', 0.17011746151347246)\n",
      "('enjoyed', 0.15994526317231672)\n",
      "('hilarious', 0.1534186385544279)\n",
      "('fantastic', 0.15233536829987088)\n",
      "('brilliant', 0.15024007855633664)\n",
      "('funniest', 0.14676172889898442)\n",
      "('incredible', 0.13977277596255297)\n",
      "('today', 0.1385163588738921)\n",
      "('must see', 0.13588733804928727)\n",
      "('gem', 0.1340045392415337)\n",
      "('watch it', 0.13053081675843936)\n",
      "('loved', 0.1285058411463966)\n",
      "('surprised', 0.1268795789809017)\n",
      "('one best', 0.12338702134933997)\n",
      "('best', 0.12336054259256947)\n",
      "('refreshing', 0.12053464515983457)\n",
      "('well worth', 0.11901676639773064)\n",
      "('fun', 0.11900976691180834)\n",
      "('subtle', 0.11839993643308376)\n",
      "('highly', 0.115272952237179)\n",
      "('loved this', 0.11430130695433555)\n",
      "('touching', 0.1131292305529065)\n",
      "('perfectly', 0.11233598474340932)\n",
      "('outstanding', 0.11099281282668784)\n",
      "\n",
      "\n",
      "\n",
      "('worst', -0.36765684571326895)\n",
      "('awful', -0.2894854153820402)\n",
      "('boring', -0.27169176132064204)\n",
      "('waste', -0.26023114741319836)\n",
      "('terrible', -0.24146287077811152)\n",
      "('bad', -0.2249752146919708)\n",
      "('poor', -0.2078455025210347)\n",
      "('dull', -0.20161000925127617)\n",
      "('disappointing', -0.1923719593535856)\n",
      "('disappointment', -0.18943558658665385)\n",
      "('horrible', -0.18719218816147404)\n",
      "('lame', -0.18662399695940607)\n",
      "('poorly', -0.18281006737596453)\n",
      "('not worth', -0.16627844476395093)\n",
      "('worse', -0.16531241431687563)\n",
      "('stupid', -0.16462235363194663)\n",
      "('avoid', -0.16036138907416222)\n",
      "('laughable', -0.15022559555566758)\n",
      "('unfortunately', -0.14808955535643462)\n",
      "('mess', -0.14677754688630423)\n",
      "('not funny', -0.14537573081248634)\n",
      "('fails', -0.1452143672643079)\n",
      "('nothing', -0.1444941609565507)\n",
      "('save', -0.14411272542576112)\n",
      "('forgettable', -0.14204754902615713)\n",
      "('not good', -0.14187869206338907)\n",
      "('weak', -0.14013413805264277)\n",
      "('lacks', -0.13986171219958177)\n",
      "('crap', -0.1364179538538851)\n",
      "('pathetic', -0.1350844069415944)\n"
     ]
    }
   ],
   "source": [
    "feature_to_coef = {\n",
    "    word: coef for word, coef in zip(\n",
    "        ngram_vectorizer.get_feature_names(), final.coef_[0]\n",
    "    )\n",
    "}\n",
    "\n",
    "for best_positive in sorted(\n",
    "    feature_to_coef.items(), \n",
    "    key=lambda x: x[1], \n",
    "    reverse=True)[:30]:\n",
    "    print (best_positive)\n",
    "    \n",
    "print(\"\\n\\n\")\n",
    "for best_negative in sorted(\n",
    "    feature_to_coef.items(), \n",
    "    key=lambda x: x[1])[:30]:\n",
    "    print (best_negative)"
   ]
  }
 ],
 "metadata": {
  "kernelspec": {
   "display_name": "Python 3",
   "language": "python",
   "name": "python3"
  },
  "language_info": {
   "codemirror_mode": {
    "name": "ipython",
    "version": 3
   },
   "file_extension": ".py",
   "mimetype": "text/x-python",
   "name": "python",
   "nbconvert_exporter": "python",
   "pygments_lexer": "ipython3",
   "version": "3.7.4"
  }
 },
 "nbformat": 4,
 "nbformat_minor": 2
}
