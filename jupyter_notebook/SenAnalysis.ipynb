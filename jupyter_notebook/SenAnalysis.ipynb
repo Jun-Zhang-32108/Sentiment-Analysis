{
 "cells": [
  {
   "cell_type": "code",
   "execution_count": 1,
   "metadata": {},
   "outputs": [
    {
     "name": "stderr",
     "output_type": "stream",
     "text": [
      "/usr/local/lib/python3.7/site-packages/sklearn/externals/joblib/__init__.py:15: FutureWarning: sklearn.externals.joblib is deprecated in 0.21 and will be removed in 0.23. Please import this functionality directly from joblib, which can be installed with: pip install joblib. If this warning is raised when loading pickled models, you may need to re-serialize those models with scikit-learn 0.21+.\n",
      "  warnings.warn(msg, category=FutureWarning)\n"
     ]
    }
   ],
   "source": [
    "import numpy as np\n",
    "import pandas as pd\n",
    "import os\n",
    "import re\n",
    "\n",
    "from sklearn.feature_extraction.text import CountVectorizer\n",
    "from sklearn.linear_model import LogisticRegression\n",
    "from sklearn.metrics import accuracy_score\n",
    "from sklearn.model_selection import train_test_split\n",
    "from sklearn.externals import joblib # save and load model\n",
    "import matplotlib.pyplot as plt\n",
    "from sklearn.metrics import plot_confusion_matrix, f1_score\n"
   ]
  },
  {
   "cell_type": "markdown",
   "metadata": {},
   "source": [
    "# Read Dataset and Preprocessing "
   ]
  },
  {
   "cell_type": "markdown",
   "metadata": {},
   "source": [
    "## 3 dataset: IMDb, Rotten Tomato, Test dataset from Tieto"
   ]
  },
  {
   "cell_type": "code",
   "execution_count": 3,
   "metadata": {},
   "outputs": [],
   "source": [
    "# Read the IMDb dataset\n",
    "reviews_train = []\n",
    "for line in open('../data/movie_data/full_train.txt', 'r'):\n",
    "    \n",
    "    reviews_train.append(line.strip())\n",
    "    \n",
    "reviews_test = []\n",
    "for line in open('../data/movie_data/full_test.txt', 'r'):\n",
    "    \n",
    "    reviews_test.append(line.strip())\n",
    "    \n",
    "target = [1 if i < 12500 else 0 for i in range(25000)]"
   ]
  },
  {
   "cell_type": "code",
   "execution_count": 4,
   "metadata": {},
   "outputs": [
    {
     "data": {
      "text/plain": [
       "1999"
      ]
     },
     "execution_count": 4,
     "metadata": {},
     "output_type": "execute_result"
    }
   ],
   "source": [
    "# Test dataset from Tieto\n",
    "path = '../data/movie_review_data'\n",
    "classes = ['neg', 'pos']\n",
    "labels    = []\n",
    "test_data_mine = []\n",
    "space = ' '\n",
    "for j in range(len(classes)):\n",
    "  file_list = os.listdir(path+'/'+classes[j])\n",
    "  for i in file_list:\n",
    "    labels.append(j)\n",
    "    comment = open(path+'/'+classes[j]+'/'+i).read()\n",
    "    comment = comment.replace('\\n',' ')\n",
    "    test_data_mine.append(comment)\n",
    "# test_data = np.array(test_data)\n",
    "len(test_data_mine)"
   ]
  },
  {
   "cell_type": "code",
   "execution_count": 5,
   "metadata": {},
   "outputs": [
    {
     "data": {
      "text/html": [
       "<div>\n",
       "<style scoped>\n",
       "    .dataframe tbody tr th:only-of-type {\n",
       "        vertical-align: middle;\n",
       "    }\n",
       "\n",
       "    .dataframe tbody tr th {\n",
       "        vertical-align: top;\n",
       "    }\n",
       "\n",
       "    .dataframe thead th {\n",
       "        text-align: right;\n",
       "    }\n",
       "</style>\n",
       "<table border=\"1\" class=\"dataframe\">\n",
       "  <thead>\n",
       "    <tr style=\"text-align: right;\">\n",
       "      <th></th>\n",
       "      <th>PhraseId</th>\n",
       "      <th>SentenceId</th>\n",
       "      <th>Phrase</th>\n",
       "      <th>Sentiment</th>\n",
       "      <th>Label</th>\n",
       "    </tr>\n",
       "  </thead>\n",
       "  <tbody>\n",
       "    <tr>\n",
       "      <th>0</th>\n",
       "      <td>1</td>\n",
       "      <td>1</td>\n",
       "      <td>A series of escapades demonstrating the adage ...</td>\n",
       "      <td>1</td>\n",
       "      <td>0</td>\n",
       "    </tr>\n",
       "    <tr>\n",
       "      <th>63</th>\n",
       "      <td>64</td>\n",
       "      <td>2</td>\n",
       "      <td>This quiet , introspective and entertaining in...</td>\n",
       "      <td>4</td>\n",
       "      <td>1</td>\n",
       "    </tr>\n",
       "    <tr>\n",
       "      <th>81</th>\n",
       "      <td>82</td>\n",
       "      <td>3</td>\n",
       "      <td>Even fans of Ismail Merchant 's work , I suspe...</td>\n",
       "      <td>1</td>\n",
       "      <td>0</td>\n",
       "    </tr>\n",
       "    <tr>\n",
       "      <th>116</th>\n",
       "      <td>117</td>\n",
       "      <td>4</td>\n",
       "      <td>A positively thrilling combination of ethnogra...</td>\n",
       "      <td>3</td>\n",
       "      <td>1</td>\n",
       "    </tr>\n",
       "    <tr>\n",
       "      <th>156</th>\n",
       "      <td>157</td>\n",
       "      <td>5</td>\n",
       "      <td>Aggressive self-glorification and a manipulati...</td>\n",
       "      <td>1</td>\n",
       "      <td>0</td>\n",
       "    </tr>\n",
       "    <tr>\n",
       "      <th>166</th>\n",
       "      <td>167</td>\n",
       "      <td>6</td>\n",
       "      <td>A comedy-drama of nearly epic proportions root...</td>\n",
       "      <td>4</td>\n",
       "      <td>1</td>\n",
       "    </tr>\n",
       "    <tr>\n",
       "      <th>198</th>\n",
       "      <td>199</td>\n",
       "      <td>7</td>\n",
       "      <td>Narratively , Trouble Every Day is a plodding ...</td>\n",
       "      <td>1</td>\n",
       "      <td>0</td>\n",
       "    </tr>\n",
       "    <tr>\n",
       "      <th>213</th>\n",
       "      <td>214</td>\n",
       "      <td>8</td>\n",
       "      <td>The Importance of Being Earnest , so thick wit...</td>\n",
       "      <td>3</td>\n",
       "      <td>1</td>\n",
       "    </tr>\n",
       "    <tr>\n",
       "      <th>247</th>\n",
       "      <td>248</td>\n",
       "      <td>9</td>\n",
       "      <td>But it does n't leave you with much .</td>\n",
       "      <td>1</td>\n",
       "      <td>0</td>\n",
       "    </tr>\n",
       "    <tr>\n",
       "      <th>259</th>\n",
       "      <td>260</td>\n",
       "      <td>10</td>\n",
       "      <td>You could hate it for the same reason .</td>\n",
       "      <td>1</td>\n",
       "      <td>0</td>\n",
       "    </tr>\n",
       "  </tbody>\n",
       "</table>\n",
       "</div>"
      ],
      "text/plain": [
       "     PhraseId  SentenceId                                             Phrase  \\\n",
       "0           1           1  A series of escapades demonstrating the adage ...   \n",
       "63         64           2  This quiet , introspective and entertaining in...   \n",
       "81         82           3  Even fans of Ismail Merchant 's work , I suspe...   \n",
       "116       117           4  A positively thrilling combination of ethnogra...   \n",
       "156       157           5  Aggressive self-glorification and a manipulati...   \n",
       "166       167           6  A comedy-drama of nearly epic proportions root...   \n",
       "198       199           7  Narratively , Trouble Every Day is a plodding ...   \n",
       "213       214           8  The Importance of Being Earnest , so thick wit...   \n",
       "247       248           9              But it does n't leave you with much .   \n",
       "259       260          10            You could hate it for the same reason .   \n",
       "\n",
       "     Sentiment  Label  \n",
       "0            1      0  \n",
       "63           4      1  \n",
       "81           1      0  \n",
       "116          3      1  \n",
       "156          1      0  \n",
       "166          4      1  \n",
       "198          1      0  \n",
       "213          3      1  \n",
       "247          1      0  \n",
       "259          1      0  "
      ]
     },
     "execution_count": 5,
     "metadata": {},
     "output_type": "execute_result"
    }
   ],
   "source": [
    "# Rotten Tomato Dataset, only training set has labels\n",
    "rotten_tomato_train = pd.read_csv('../data/rottenTomatoes/train.tsv', sep = '\\t')\n",
    "rotten_tomato_test  = pd.read_csv('../data/rottenTomatoes/test.tsv', sep = '\\t')\n",
    "rotten_tomato_train.drop_duplicates(subset = ['SentenceId'], keep='first', inplace = True)\n",
    "rotten_tomato_test.drop_duplicates(subset = ['SentenceId'], keep='first', inplace = True)\n",
    "rotten_tomato_train = rotten_tomato_train[~rotten_tomato_train['Sentiment'].isin([2])]\n",
    "rotten_tomato_train['Label'] = rotten_tomato_train['Sentiment'].apply(lambda x: 1 if x>2 else 0)\n",
    "rotten_tomato_train_x = list(rotten_tomato_train['Phrase'])\n",
    "rotten_tomato_train_y = list(rotten_tomato_train['Label'])\n",
    "rotten_tomato_train.head(10)\n"
   ]
  },
  {
   "cell_type": "code",
   "execution_count": 49,
   "metadata": {},
   "outputs": [],
   "source": [
    "# Preprocessing using regular expressions\n",
    "\n",
    "REPLACE_NO_SPACE = re.compile(\"(\\.)|(\\;)|(\\:)|(\\!)|(\\?)|(\\,)|(\\\")|(\\()|(\\))|(\\[)|(\\])|(\\d+)\")\n",
    "REPLACE_WITH_SPACE = re.compile(\"(<br\\s*/><br\\s*/>)|(\\-)|(\\/)\")\n",
    "NO_SPACE = \"\"\n",
    "SPACE = \" \"\n",
    "\n",
    "# Replace the abbreviation with the complete words\n",
    "def _replacer(text):\n",
    "    replacement_patterns = [\n",
    "        (r'won\\'t', 'will not'),\n",
    "        (r'can\\'t', 'cannot'),\n",
    "        (r'i\\'m', 'i am'),\n",
    "        (r'ain\\'t', 'is not'),\n",
    "        (r'(\\w+)\\'ll', r'\\g<1> will'),\n",
    "        (r'(\\w+)n\\'t', r'\\g<1> not'),\n",
    "        (r'(\\w+)\\'ve', r'\\g<1> have'),\n",
    "        (r'(\\w+)\\'s', r'\\g<1> is'),\n",
    "        (r'(\\w+)\\'re', r'\\g<1> are'),\n",
    "        (r'(\\w+)\\'d', r'\\g<1> would')]\n",
    "    patterns = [(re.compile(regex), repl) for (regex, repl) in replacement_patterns]\n",
    "    s = text\n",
    "    for (pattern, repl) in patterns:\n",
    "        (s, _) = re.subn(pattern, repl, s)\n",
    "    return s\n",
    "\n",
    "def preprocess_reviews(reviews):\n",
    "    \n",
    "    reviews = [REPLACE_NO_SPACE.sub(NO_SPACE, line.lower()) for line in reviews]\n",
    "    reviews = [REPLACE_WITH_SPACE.sub(SPACE, line) for line in reviews]\n",
    "    reviews = [_replacer(line) for line in reviews]\n",
    "    \n",
    "    return reviews"
   ]
  },
  {
   "cell_type": "code",
   "execution_count": 52,
   "metadata": {},
   "outputs": [],
   "source": [
    "reviews_train_clean = preprocess_reviews(reviews_train)\n",
    "reviews_test_clean = preprocess_reviews(reviews_test)\n",
    "rotten_tomato_clean = preprocess_reviews(rotten_tomato_train_x)"
   ]
  },
  {
   "cell_type": "code",
   "execution_count": 51,
   "metadata": {},
   "outputs": [
    {
     "data": {
      "text/plain": [
       "['i do not like this']"
      ]
     },
     "execution_count": 51,
     "metadata": {},
     "output_type": "execute_result"
    }
   ],
   "source": [
    "# Manually check the effect\n",
    "preprocess_reviews(['I don\\'t like this'])"
   ]
  },
  {
   "cell_type": "markdown",
   "metadata": {},
   "source": [
    "# Baseline "
   ]
  },
  {
   "cell_type": "markdown",
   "metadata": {},
   "source": [
    "## CountVectorizer + Logistic Regression"
   ]
  },
  {
   "cell_type": "code",
   "execution_count": 99,
   "metadata": {},
   "outputs": [
    {
     "name": "stdout",
     "output_type": "stream",
     "text": [
      "Accuracy for C=0.01: 0.87216\n",
      "F1 Score: 0.8729931648386583\n",
      "Accuracy for C=0.05: 0.88384\n",
      "F1 Score: 0.8839142948512951\n",
      "Accuracy for C=0.25: 0.87664\n",
      "F1 Score: 0.8764621054318219\n",
      "Accuracy for C=0.5: 0.87488\n",
      "F1 Score: 0.8745588707090151\n",
      "Accuracy for C=1: 0.87264\n",
      "F1 Score: 0.8724767702659405\n",
      "Final Accuracy: 0.88124\n",
      "F1 Score: 0.881651851556583\n"
     ]
    }
   ],
   "source": [
    "baseline_vectorizer = CountVectorizer(binary=True)\n",
    "baseline_vectorizer.fit(reviews_train_clean)\n",
    "X_baseline = baseline_vectorizer.transform(reviews_train_clean)\n",
    "X_test_baseline = baseline_vectorizer.transform(reviews_test_clean)\n",
    "\n",
    "X_train, X_val, y_train, y_val = train_test_split(\n",
    "    X_baseline, target, train_size = 0.75\n",
    ")\n",
    "\n",
    "for c in [0.01, 0.05, 0.25, 0.5, 1]:\n",
    "    # My laptop has 4cores and 8 threads\n",
    "    lr = LogisticRegression(C=c, max_iter =200, n_jobs = 8)\n",
    "    lr.fit(X_train, y_train)\n",
    "    print (\"Accuracy for C=%s: %s\" \n",
    "           % (c, accuracy_score(y_val, lr.predict(X_val))))\n",
    "    print ('F1 Score: {}'.format(f1_score(y_val, lr.predict(X_val))))\n",
    "\n",
    "final_model = LogisticRegression(C=0.05, max_iter =200, n_jobs = 8)\n",
    "final_model.fit(X_baseline, target)\n",
    "print (\"Final Accuracy: %s\" \n",
    "       % accuracy_score(target, final_model.predict(X_test_baseline)))\n",
    "print ('F1 Score: {}'.format(f1_score(target, final_model.predict(X_test_baseline))))\n"
   ]
  },
  {
   "cell_type": "code",
   "execution_count": 103,
   "metadata": {},
   "outputs": [
    {
     "name": "stdout",
     "output_type": "stream",
     "text": [
      "Confusion matrix, without normalization\n",
      "[[10972  1528]\n",
      " [ 1441 11059]]\n",
      "Normalized confusion matrix\n",
      "[[0.87776 0.12224]\n",
      " [0.11528 0.88472]]\n"
     ]
    },
    {
     "data": {
      "image/png": "[encoded data removed]",
      "text/plain": [
       "<Figure size 432x288 with 2 Axes>"
      ]
     },
     "metadata": {
      "needs_background": "light"
     },
     "output_type": "display_data"
    },
    {
     "data": {
      "image/png": "[encoded data removed]",
      "text/plain": [
       "<Figure size 432x288 with 2 Axes>"
      ]
     },
     "metadata": {
      "needs_background": "light"
     },
     "output_type": "display_data"
    }
   ],
   "source": [
    "# Plot non-normalized confusion matrix\n",
    "titles_options = [(\"Confusion matrix, without normalization\", None),\n",
    "                  (\"Normalized confusion matrix\", 'true')]\n",
    "for title, normalize in titles_options:\n",
    "    disp = plot_confusion_matrix(final_model, X_test_baseline, target,\n",
    "#                                  display_labels=class_names,\n",
    "                                 cmap=plt.cm.Blues,\n",
    "                                 normalize=normalize)\n",
    "    disp.ax_.set_title(title)\n",
    "\n",
    "    print(title)\n",
    "    print(disp.confusion_matrix)\n",
    "\n",
    "plt.show()"
   ]
  },
  {
   "cell_type": "code",
   "execution_count": 104,
   "metadata": {},
   "outputs": [
    {
     "name": "stdout",
     "output_type": "stream",
     "text": [
      "ACC: 0.8724362181090545\n",
      "F1 Score: 0.8728179551122195\n",
      "Confusion matrix, without normalization\n",
      "[[869 130]\n",
      " [125 875]]\n",
      "Normalized confusion matrix\n",
      "[[0.86986987 0.13013013]\n",
      " [0.125      0.875     ]]\n"
     ]
    },
    {
     "data": {
      "image/png": "[encoded data removed]",
      "text/plain": [
       "<Figure size 432x288 with 2 Axes>"
      ]
     },
     "metadata": {
      "needs_background": "light"
     },
     "output_type": "display_data"
    },
    {
     "data": {
      "image/png": "[encoded data removed]",
      "text/plain": [
       "<Figure size 432x288 with 2 Axes>"
      ]
     },
     "metadata": {
      "needs_background": "light"
     },
     "output_type": "display_data"
    }
   ],
   "source": [
    "# Test with Tieto Data\n",
    "test = preprocess_reviews(test_data_mine)\n",
    "test = baseline_vectorizer.transform(test)\n",
    "print('ACC: {}'.format(accuracy_score(labels, final_model.predict(test))))\n",
    "print ('F1 Score: {}'.format(f1_score(labels, final_model.predict(test))))\n",
    "\n",
    "\n",
    "# Plot non-normalized confusion matrix of tieto data\n",
    "titles_options = [(\"Confusion matrix, without normalization\", None),\n",
    "                  (\"Normalized confusion matrix\", 'true')]\n",
    "for title, normalize in titles_options:\n",
    "    disp = plot_confusion_matrix(final_model, test,labels,\n",
    "#                                  display_labels=class_names,\n",
    "                                 cmap=plt.cm.Blues,\n",
    "                                 normalize=normalize)\n",
    "    disp.ax_.set_title(title)\n",
    "\n",
    "    print(title)\n",
    "    print(disp.confusion_matrix)\n",
    "\n",
    "plt.show()"
   ]
  },
  {
   "cell_type": "code",
   "execution_count": 105,
   "metadata": {},
   "outputs": [
    {
     "name": "stdout",
     "output_type": "stream",
     "text": [
      "ACC: 0.6965376782077393\n",
      "F1 Score: 0.7595666205624712\n",
      "Confusion matrix, without normalization\n",
      "[[1493 1779]\n",
      " [ 307 3295]]\n",
      "Normalized confusion matrix\n",
      "[[0.45629584 0.54370416]\n",
      " [0.08523043 0.91476957]]\n"
     ]
    },
    {
     "data": {
      "image/png": "[encoded data removed]",
      "text/plain": [
       "<Figure size 432x288 with 2 Axes>"
      ]
     },
     "metadata": {
      "needs_background": "light"
     },
     "output_type": "display_data"
    },
    {
     "data": {
      "image/png": "[encoded data removed]",
      "text/plain": [
       "<Figure size 432x288 with 2 Axes>"
      ]
     },
     "metadata": {
      "needs_background": "light"
     },
     "output_type": "display_data"
    }
   ],
   "source": [
    "# Plot non-normalized confusion matrix of rotten tomato data\n",
    "rotten_tomato = baseline_vectorizer.transform(rotten_tomato_clean)\n",
    "print('ACC: {}'.format(accuracy_score(rotten_tomato_train_y, final_model.predict(rotten_tomato))))\n",
    "print ('F1 Score: {}'.format(f1_score(rotten_tomato_train_y, final_model.predict(rotten_tomato))))\n",
    "titles_options = [(\"Confusion matrix, without normalization\", None),\n",
    "                  (\"Normalized confusion matrix\", 'true')]\n",
    "for title, normalize in titles_options:\n",
    "    disp = plot_confusion_matrix(final_model, rotten_tomato,rotten_tomato_train_y,\n",
    "#                                  display_labels=class_names,\n",
    "                                 cmap=plt.cm.Blues,\n",
    "                                 normalize=normalize)\n",
    "    disp.ax_.set_title(title)\n",
    "\n",
    "    print(title)\n",
    "    print(disp.confusion_matrix)\n",
    "\n",
    "plt.show()"
   ]
  },
  {
   "cell_type": "markdown",
   "metadata": {},
   "source": [
    "# Remove Stop Words"
   ]
  },
  {
   "cell_type": "markdown",
   "metadata": {},
   "source": [
    "## Remove StopWords + CountVectorizer + Logistic Regression"
   ]
  },
  {
   "cell_type": "code",
   "execution_count": 107,
   "metadata": {},
   "outputs": [
    {
     "name": "stdout",
     "output_type": "stream",
     "text": [
      "Accuracy for C=0.01: 0.87232\n",
      "F1 Score: 0.8726460261729971\n",
      "\n",
      "Accuracy for C=0.05: 0.88\n",
      "F1 Score: 0.8803827751196172\n",
      "\n",
      "Accuracy for C=0.25: 0.87984\n",
      "F1 Score: 0.8800127815945038\n",
      "\n",
      "Accuracy for C=0.5: 0.8776\n",
      "F1 Score: 0.877502001601281\n",
      "\n",
      "Accuracy for C=1: 0.87328\n",
      "F1 Score: 0.8731988472622478\n",
      "\n",
      "Final Accuracy: 0.87464\n",
      "F1 Score: 0.8749501236932408\n"
     ]
    }
   ],
   "source": [
    "# from nltk.corpus import stopwords\n",
    "import nltk\n",
    "from nltk.corpus import stopwords\n",
    "  \n",
    "\n",
    "english_stop_words = stopwords.words('english')\n",
    "def remove_stop_words(corpus):\n",
    "    removed_stop_words = []\n",
    "    for review in corpus:\n",
    "        removed_stop_words.append(\n",
    "            ' '.join([word for word in review.split() \n",
    "                      if word not in english_stop_words])\n",
    "        )\n",
    "    return removed_stop_words\n",
    "\n",
    "no_stop_words_train = remove_stop_words(reviews_train_clean)\n",
    "no_stop_words_test = remove_stop_words(reviews_test_clean)\n",
    "\n",
    "cv = CountVectorizer(binary=True)\n",
    "cv.fit(no_stop_words_train)\n",
    "X = cv.transform(no_stop_words_train)\n",
    "X_test = cv.transform(no_stop_words_test)\n",
    "\n",
    "X_train, X_val, y_train, y_val = train_test_split(\n",
    "    X, target, train_size = 0.75\n",
    ")\n",
    "\n",
    "for c in [0.01, 0.05, 0.25, 0.5, 1]:\n",
    "    \n",
    "    lr = LogisticRegression(C=c, max_iter = 200, n_jobs = 8)\n",
    "    lr.fit(X_train, y_train)\n",
    "    print (\"Accuracy for C=%s: %s\" \n",
    "           % (c, accuracy_score(y_val, lr.predict(X_val))))\n",
    "    print ('F1 Score: {}'.format(f1_score(y_val, lr.predict(X_val))))\n",
    "    print ()\n",
    "    \n",
    "final_model = LogisticRegression(C=0.25, max_iter = 200, n_jobs = 8)\n",
    "final_model.fit(X, target)\n",
    "print (\"Final Accuracy: %s\" \n",
    "       % accuracy_score(target, final_model.predict(X_test)))\n",
    "print ('F1 Score: {}'.format(f1_score(target, final_model.predict(X_test))))"
   ]
  },
  {
   "cell_type": "code",
   "execution_count": 108,
   "metadata": {},
   "outputs": [
    {
     "name": "stdout",
     "output_type": "stream",
     "text": [
      "Confusion matrix, without normalization\n",
      "[[10902  1598]\n",
      " [ 1536 10964]]\n",
      "Normalized confusion matrix\n",
      "[[0.87216 0.12784]\n",
      " [0.12288 0.87712]]\n"
     ]
    },
    {
     "data": {
      "image/png": "[encoded data removed]",
      "text/plain": [
       "<Figure size 432x288 with 2 Axes>"
      ]
     },
     "metadata": {
      "needs_background": "light"
     },
     "output_type": "display_data"
    },
    {
     "data": {
      "image/png": "[encoded data removed]",
      "text/plain": [
       "<Figure size 432x288 with 2 Axes>"
      ]
     },
     "metadata": {
      "needs_background": "light"
     },
     "output_type": "display_data"
    }
   ],
   "source": [
    "# Plot non-normalized confusion matrix\n",
    "titles_options = [(\"Confusion matrix, without normalization\", None),\n",
    "                  (\"Normalized confusion matrix\", 'true')]\n",
    "for title, normalize in titles_options:\n",
    "    disp = plot_confusion_matrix(final_model, X_test, target,\n",
    "#                                  display_labels=class_names,\n",
    "                                 cmap=plt.cm.Blues,\n",
    "                                 normalize=normalize)\n",
    "    disp.ax_.set_title(title)\n",
    "\n",
    "    print(title)\n",
    "    print(disp.confusion_matrix)\n",
    "\n",
    "plt.show()"
   ]
  },
  {
   "cell_type": "markdown",
   "metadata": {},
   "source": [
    "# Stemming"
   ]
  },
  {
   "cell_type": "markdown",
   "metadata": {},
   "source": [
    "## Steamming + CountVectorizer + Logistic Regression"
   ]
  },
  {
   "cell_type": "code",
   "execution_count": 74,
   "metadata": {},
   "outputs": [
    {
     "name": "stdout",
     "output_type": "stream",
     "text": [
      "Accuracy for C=0.01: 0.86608\n",
      "F1 Score: 0.8678768745067088\n",
      "\n",
      "Accuracy for C=0.05: 0.87824\n",
      "F1 Score: 0.879263842614628\n",
      "\n",
      "Accuracy for C=0.25: 0.87904\n",
      "F1 Score: 0.8798474253019708\n",
      "\n",
      "Accuracy for C=0.5: 0.87536\n",
      "F1 Score: 0.8760540970564837\n",
      "\n",
      "Accuracy for C=1: 0.87184\n",
      "F1 Score: 0.8725536992840096\n",
      "\n",
      "Final Accuracy: 0.8778\n",
      "F1 Score: 0.8600280504908835\n",
      "Confusion matrix, without normalization\n",
      "[[10923  1577]\n",
      " [ 1478 11022]]\n",
      "Normalized confusion matrix\n",
      "[[0.87384 0.12616]\n",
      " [0.11824 0.88176]]\n"
     ]
    },
    {
     "data": {
      "image/png": "[encoded data removed]",
      "text/plain": [
       "<Figure size 432x288 with 2 Axes>"
      ]
     },
     "metadata": {
      "needs_background": "light"
     },
     "output_type": "display_data"
    },
    {
     "data": {
      "image/png": "[encoded data removed]",
      "text/plain": [
       "<Figure size 432x288 with 2 Axes>"
      ]
     },
     "metadata": {
      "needs_background": "light"
     },
     "output_type": "display_data"
    }
   ],
   "source": [
    "def get_stemmed_text(corpus):\n",
    "    from nltk.stem.porter import PorterStemmer\n",
    "    stemmer = PorterStemmer()\n",
    "\n",
    "    return [' '.join([stemmer.stem(word) for word in review.split()]) for review in corpus]\n",
    "\n",
    "stemmed_reviews_train = get_stemmed_text(reviews_train_clean)\n",
    "stemmed_reviews_test = get_stemmed_text(reviews_test_clean)\n",
    "\n",
    "cv = CountVectorizer(binary=True)\n",
    "cv.fit(stemmed_reviews_train)\n",
    "X = cv.transform(stemmed_reviews_train)\n",
    "X_test = cv.transform(stemmed_reviews_test)\n",
    "\n",
    "X_train, X_val, y_train, y_val = train_test_split(\n",
    "    X, target, train_size = 0.75\n",
    ")\n",
    "\n",
    "for c in [0.01, 0.05, 0.25, 0.5, 1]:\n",
    "    \n",
    "    lr = LogisticRegression(C=c, max_iter = 200, n_jobs =8)\n",
    "    lr.fit(X_train, y_train)\n",
    "    print (\"Accuracy for C=%s: %s\" \n",
    "           % (c, accuracy_score(y_val, lr.predict(X_val))))\n",
    "    print ('F1 Score: {}'.format(f1_score(y_val, lr.predict(X_val))))\n",
    "    print ()\n",
    "    \n",
    "final_stemmed = LogisticRegression(C=0.05, max_iter = 200, n_jobs =8)\n",
    "final_stemmed.fit(X, target)\n",
    "print (\"Final Accuracy: %s\" \n",
    "       % accuracy_score(target, final_stemmed.predict(X_test)))\n",
    "print ('F1 Score: {}'.format(f1_score(target, lr.predict(X_test))))\n",
    "\n",
    "# Plot non-normalized confusion matrix\n",
    "titles_options = [(\"Confusion matrix, without normalization\", None),\n",
    "                  (\"Normalized confusion matrix\", 'true')]\n",
    "for title, normalize in titles_options:\n",
    "    disp = plot_confusion_matrix(final_stemmed, X_test, target,\n",
    "#                                  display_labels=class_names,\n",
    "                                 cmap=plt.cm.Blues,\n",
    "                                 normalize=normalize)\n",
    "    disp.ax_.set_title(title)\n",
    "\n",
    "    print(title)\n",
    "    print(disp.confusion_matrix)\n",
    "\n",
    "plt.show()"
   ]
  },
  {
   "cell_type": "code",
   "execution_count": 67,
   "metadata": {},
   "outputs": [
    {
     "data": {
      "text/plain": [
       "[\"i'lik\"]"
      ]
     },
     "execution_count": 67,
     "metadata": {},
     "output_type": "execute_result"
    }
   ],
   "source": [
    "# Manually test the effect of stemming. Some words are distorted\n",
    "def get_stemmed_text(corpus):\n",
    "    from nltk.stem.porter import PorterStemmer\n",
    "    stemmer = PorterStemmer()\n",
    "\n",
    "    return [' '.join([stemmer.stem(word) for word in review.split()]) for review in corpus]\n",
    "\n",
    "get_stemmed_text(['I\\'like'])"
   ]
  },
  {
   "cell_type": "code",
   "execution_count": 75,
   "metadata": {},
   "outputs": [
    {
     "name": "stdout",
     "output_type": "stream",
     "text": [
      "['i do not like thi movi']\n",
      "[0]\n",
      "['i like thi movi']\n",
      "[1]\n",
      "['i do like thi movi']\n",
      "[1]\n",
      "['i hate thi movi']\n",
      "[1]\n"
     ]
    }
   ],
   "source": [
    "# Manual Check\n",
    "test = \"I don't like this movie!\"\n",
    "test = preprocess_reviews([test])\n",
    "test = get_stemmed_text(test)\n",
    "print(test)\n",
    "test = cv.transform(test)\n",
    "print(final_stemmed.predict(test))\n",
    "\n",
    "test = \"I like this movie!\"\n",
    "test = preprocess_reviews([test])\n",
    "test = get_stemmed_text(test)\n",
    "print(test)\n",
    "test = cv.transform(test)\n",
    "print(final_stemmed.predict(test))\n",
    "\n",
    "test = \"I do like this movie!\"\n",
    "test = preprocess_reviews([test])\n",
    "test = get_stemmed_text(test)\n",
    "print(test)\n",
    "test = cv.transform(test)\n",
    "print(final_stemmed.predict(test))\n",
    "\n",
    "test = \"I hate this movie!\"\n",
    "test = preprocess_reviews([test])\n",
    "test = get_stemmed_text(test)\n",
    "print(test)\n",
    "test = cv.transform(test)\n",
    "print(final_stemmed.predict(test))"
   ]
  },
  {
   "cell_type": "markdown",
   "metadata": {},
   "source": [
    "# Lemmatization"
   ]
  },
  {
   "cell_type": "code",
   "execution_count": 70,
   "metadata": {},
   "outputs": [
    {
     "name": "stdout",
     "output_type": "stream",
     "text": [
      "Accuracy for C=0.01: 0.87344\n",
      "F1 Score: 0.8749407114624506\n",
      "\n",
      "Accuracy for C=0.05: 0.8856\n",
      "F1 Score: 0.8868133607725186\n",
      "\n",
      "Accuracy for C=0.25: 0.88352\n",
      "F1 Score: 0.8847736625514403\n",
      "\n",
      "Accuracy for C=0.5: 0.88016\n",
      "F1 Score: 0.8814685868017091\n",
      "\n",
      "Accuracy for C=1: 0.87888\n",
      "F1 Score: 0.8801266825019793\n",
      "\n",
      "Final Accuracy: 0.87476\n",
      "F1 Score: 0.8623580856099812\n",
      "Confusion matrix, without normalization\n",
      "[[10944  1556]\n",
      " [ 1575 10925]]\n",
      "Normalized confusion matrix\n",
      "[[0.87552 0.12448]\n",
      " [0.126   0.874  ]]\n"
     ]
    },
    {
     "data": {
      "image/png": "[encoded data removed]",
      "text/plain": [
       "<Figure size 432x288 with 2 Axes>"
      ]
     },
     "metadata": {
      "needs_background": "light"
     },
     "output_type": "display_data"
    },
    {
     "data": {
      "image/png": "[encoded data removed]",
      "text/plain": [
       "<Figure size 432x288 with 2 Axes>"
      ]
     },
     "metadata": {
      "needs_background": "light"
     },
     "output_type": "display_data"
    }
   ],
   "source": [
    "def get_lemmatized_text(corpus):\n",
    "    \n",
    "    from nltk.stem import WordNetLemmatizer\n",
    "    lemmatizer = WordNetLemmatizer()\n",
    "    return [' '.join([lemmatizer.lemmatize(word) for word in review.split()]) for review in corpus]\n",
    "\n",
    "lemmatized_reviews_train = get_lemmatized_text(reviews_train_clean)\n",
    "lemmatized_reviews_test = get_lemmatized_text(reviews_test_clean)\n",
    "\n",
    "cv = CountVectorizer(binary=True)\n",
    "cv.fit(lemmatized_reviews_train)\n",
    "X = cv.transform(lemmatized_reviews_train)\n",
    "X_test = cv.transform(lemmatized_reviews_test)\n",
    "\n",
    "X_train, X_val, y_train, y_val = train_test_split(\n",
    "    X, target, train_size = 0.75\n",
    ")\n",
    "\n",
    "for c in [0.01, 0.05, 0.25, 0.5, 1]:\n",
    "    \n",
    "    lr = LogisticRegression(C=c, max_iter = 200, n_jobs =8)\n",
    "    lr.fit(X_train, y_train)\n",
    "    print (\"Accuracy for C=%s: %s\" \n",
    "           % (c, accuracy_score(y_val, lr.predict(X_val))))\n",
    "    print ('F1 Score: {}'.format(f1_score(y_val, lr.predict(X_val))))\n",
    "    print()\n",
    "    \n",
    "final_lemmatized = LogisticRegression(C=0.25, max_iter = 200, n_jobs =8)\n",
    "final_lemmatized.fit(X, target)\n",
    "print (\"Final Accuracy: %s\" \n",
    "       % accuracy_score(target, final_lemmatized.predict(X_test)))\n",
    "print ('F1 Score: {}'.format(f1_score(target, lr.predict(X_test))))\n",
    "\n",
    "# Plot non-normalized confusion matrix\n",
    "titles_options = [(\"Confusion matrix, without normalization\", None),\n",
    "                  (\"Normalized confusion matrix\", 'true')]\n",
    "for title, normalize in titles_options:\n",
    "    disp = plot_confusion_matrix(final_lemmatized, X_test, target,\n",
    "#                                  display_labels=class_names,\n",
    "                                 cmap=plt.cm.Blues,\n",
    "                                 normalize=normalize)\n",
    "    disp.ax_.set_title(title)\n",
    "\n",
    "    print(title)\n",
    "    print(disp.confusion_matrix)\n",
    "\n",
    "plt.show()"
   ]
  },
  {
   "cell_type": "markdown",
   "metadata": {},
   "source": [
    "It seems in this case the use of steamming or lemmazation has very little effect on the performance."
   ]
  },
  {
   "cell_type": "code",
   "execution_count": 96,
   "metadata": {},
   "outputs": [
    {
     "data": {
      "text/plain": [
       "[\"I'like\"]"
      ]
     },
     "execution_count": 96,
     "metadata": {},
     "output_type": "execute_result"
    }
   ],
   "source": [
    "# Check the effect of lemmazation. Has similar effect as steaming but the words are not distorted\n",
    "def get_lemmatized_text(corpus):\n",
    "    \n",
    "    from nltk.stem import WordNetLemmatizer\n",
    "    lemmatizer = WordNetLemmatizer()\n",
    "    return [' '.join([lemmatizer.lemmatize(word) for word in review.split()]) for review in corpus]\n",
    "\n",
    "get_lemmatized_text(['I\\'like'])"
   ]
  },
  {
   "cell_type": "code",
   "execution_count": 72,
   "metadata": {},
   "outputs": [
    {
     "name": "stdout",
     "output_type": "stream",
     "text": [
      "['i do not like this movie']\n",
      "[0]\n",
      "['i like this movie']\n",
      "[1]\n",
      "['i do like this movie']\n",
      "[1]\n",
      "['i hate this movie']\n",
      "[1]\n"
     ]
    }
   ],
   "source": [
    "# Manual Check\n",
    "test = \"I don't like this movie!\"\n",
    "test = preprocess_reviews([test])\n",
    "test = get_lemmatized_text(test)\n",
    "print(test)\n",
    "test = cv.transform(test)\n",
    "print(final_lemmatized.predict(test))\n",
    "\n",
    "test = \"I like this movie!\"\n",
    "test = preprocess_reviews([test])\n",
    "test = get_lemmatized_text(test)\n",
    "print(test)\n",
    "test = cv.transform(test)\n",
    "print(final_lemmatized.predict(test))\n",
    "\n",
    "test = \"I do like this movie!\"\n",
    "test = preprocess_reviews([test])\n",
    "test = get_lemmatized_text(test)\n",
    "print(test)\n",
    "test = cv.transform(test)\n",
    "print(final_lemmatized.predict(test))\n",
    "\n",
    "test = \"I hate this movie!\"\n",
    "test = preprocess_reviews([test])\n",
    "test = get_lemmatized_text(test)\n",
    "print(test)\n",
    "test = cv.transform(test)\n",
    "print(final_lemmatized.predict(test))"
   ]
  },
  {
   "cell_type": "markdown",
   "metadata": {},
   "source": [
    "# n-grams"
   ]
  },
  {
   "cell_type": "markdown",
   "metadata": {},
   "source": [
    "## n-grams + logistic regression"
   ]
  },
  {
   "cell_type": "code",
   "execution_count": 76,
   "metadata": {},
   "outputs": [
    {
     "name": "stdout",
     "output_type": "stream",
     "text": [
      "Accuracy for C=0.01: 0.88976\n",
      "F1 Score: 0.8910671936758893\n",
      "\n",
      "Accuracy for C=0.05: 0.89456\n",
      "F1 Score: 0.8953469906304589\n",
      "\n",
      "Accuracy for C=0.25: 0.896\n",
      "F1 Score: 0.8968253968253969\n",
      "\n",
      "Accuracy for C=0.5: 0.89504\n",
      "F1 Score: 0.8957737527804259\n",
      "\n",
      "Accuracy for C=1: 0.89568\n",
      "F1 Score: 0.8963763509218055\n",
      "\n",
      "Final Accuracy: 0.89928\n",
      "F1 Score: 0.893950858189638\n",
      "Confusion matrix, without normalization\n",
      "[[11178  1322]\n",
      " [ 1196 11304]]\n",
      "Normalized confusion matrix\n",
      "[[0.89424 0.10576]\n",
      " [0.09568 0.90432]]\n"
     ]
    },
    {
     "data": {
      "image/png": "[encoded data removed]",
      "text/plain": [
       "<Figure size 432x288 with 2 Axes>"
      ]
     },
     "metadata": {
      "needs_background": "light"
     },
     "output_type": "display_data"
    },
    {
     "data": {
      "image/png": "[encoded data removed]",
      "text/plain": [
       "<Figure size 432x288 with 2 Axes>"
      ]
     },
     "metadata": {
      "needs_background": "light"
     },
     "output_type": "display_data"
    }
   ],
   "source": [
    "ngram_vectorizer = CountVectorizer(binary=True, ngram_range=(1, 2))\n",
    "ngram_vectorizer.fit(reviews_train_clean)\n",
    "X = ngram_vectorizer.transform(reviews_train_clean)\n",
    "X_test = ngram_vectorizer.transform(reviews_test_clean)\n",
    "\n",
    "X_train, X_val, y_train, y_val = train_test_split(\n",
    "    X, target, train_size = 0.75\n",
    ")\n",
    "\n",
    "for c in [0.01, 0.05, 0.25, 0.5, 1]:\n",
    "    \n",
    "    lr = LogisticRegression(C=c, max_iter = 200, n_jobs =8)\n",
    "    lr.fit(X_train, y_train)\n",
    "    print (\"Accuracy for C=%s: %s\" \n",
    "           % (c, accuracy_score(y_val, lr.predict(X_val))))\n",
    "    print ('F1 Score: {}'.format(f1_score(y_val, lr.predict(X_val))))\n",
    "    print ()\n",
    "    \n",
    "final_ngram = LogisticRegression(C=0.5, max_iter = 200, n_jobs =8)\n",
    "final_ngram.fit(X, target)\n",
    "print (\"Final Accuracy: %s\" \n",
    "       % accuracy_score(target, final_ngram.predict(X_test)))\n",
    "print ('F1 Score: {}'.format(f1_score(target, lr.predict(X_test))))\n",
    "\n",
    "\n",
    "# Plot non-normalized confusion matrix\n",
    "titles_options = [(\"Confusion matrix, without normalization\", None),\n",
    "                  (\"Normalized confusion matrix\", 'true')]\n",
    "for title, normalize in titles_options:\n",
    "    disp = plot_confusion_matrix(final_ngram, X_test, target,\n",
    "#                                  display_labels=class_names,\n",
    "                                 cmap=plt.cm.Blues,\n",
    "                                 normalize=normalize)\n",
    "    disp.ax_.set_title(title)\n",
    "\n",
    "    print(title)\n",
    "    print(disp.confusion_matrix)\n",
    "\n",
    "plt.show()\n",
    "\n",
    "# Final Accuracy: 0.898"
   ]
  },
  {
   "cell_type": "markdown",
   "metadata": {},
   "source": [
    "# Clearly by using ngram the overall performance is improved!"
   ]
  },
  {
   "cell_type": "code",
   "execution_count": 80,
   "metadata": {},
   "outputs": [
    {
     "name": "stdout",
     "output_type": "stream",
     "text": [
      "  (0, 359862)\t1\n",
      "  (0, 360437)\t1\n",
      "  (0, 750513)\t1\n",
      "  (0, 754454)\t1\n",
      "  (0, 845443)\t1\n",
      "  (0, 887811)\t1\n",
      "  (0, 890133)\t1\n",
      "  (0, 1316464)\t1\n",
      "  (0, 1319244)\t1\n",
      "[1]\n",
      "  (0, 750513)\t1\n",
      "  (0, 754454)\t1\n",
      "  (0, 845443)\t1\n",
      "  (0, 1316464)\t1\n",
      "  (0, 1319244)\t1\n",
      "[1]\n",
      "  (0, 359862)\t1\n",
      "  (0, 360342)\t1\n",
      "  (0, 750513)\t1\n",
      "  (0, 754454)\t1\n",
      "  (0, 845443)\t1\n",
      "  (0, 1316464)\t1\n",
      "  (0, 1319244)\t1\n",
      "[1]\n",
      "  (0, 569515)\t1\n",
      "  (0, 569702)\t1\n",
      "  (0, 845443)\t1\n",
      "  (0, 1316464)\t1\n",
      "  (0, 1319244)\t1\n",
      "[1]\n"
     ]
    }
   ],
   "source": [
    "# Manual Check\n",
    "test = \"I don't like this movie!\"\n",
    "test = preprocess_reviews([test])\n",
    "test = ngram_vectorizer.transform(test)\n",
    "print(test)\n",
    "print(final_ngram.predict(test))\n",
    "\n",
    "test = \"I like this movie!\"\n",
    "test = preprocess_reviews([test])\n",
    "test = ngram_vectorizer.transform(test)\n",
    "print(test)\n",
    "print(final_ngram.predict(test))\n",
    "\n",
    "test = \"I do like this movie!\"\n",
    "test = preprocess_reviews([test])\n",
    "test = ngram_vectorizer.transform(test)\n",
    "print(test)\n",
    "print(final_ngram.predict(test))\n",
    "\n",
    "test = \"I hate this movie!\"\n",
    "test = preprocess_reviews([test])\n",
    "test = ngram_vectorizer.transform(test)\n",
    "print(test)\n",
    "print(final_ngram.predict(test))"
   ]
  },
  {
   "cell_type": "markdown",
   "metadata": {},
   "source": [
    "# Word Counts"
   ]
  },
  {
   "cell_type": "markdown",
   "metadata": {},
   "source": [
    "Before I am using bag-of-words where the value for one word is 1 no matter what is the occurance, now I calculate the occurance"
   ]
  },
  {
   "cell_type": "code",
   "execution_count": 81,
   "metadata": {},
   "outputs": [
    {
     "name": "stdout",
     "output_type": "stream",
     "text": [
      "Accuracy for C=0.01: 0.87424\n",
      "F1 Score: 0.8729799612152553\n",
      "\n",
      "Accuracy for C=0.05: 0.88208\n",
      "F1 Score: 0.8806477732793523\n",
      "\n",
      "Accuracy for C=0.25: 0.88256\n",
      "F1 Score: 0.880805456316986\n",
      "\n",
      "Accuracy for C=0.5: 0.88144\n",
      "F1 Score: 0.8797273169939943\n",
      "\n",
      "Accuracy for C=1: 0.87824\n",
      "F1 Score: 0.8766812510128019\n",
      "\n",
      "Final Accuracy: 0.8816\n",
      "F1 Score: 0.8814577492991591\n",
      "Confusion matrix, without normalization\n",
      "[[11035  1465]\n",
      " [ 1495 11005]]\n",
      "Normalized confusion matrix\n",
      "[[0.8828 0.1172]\n",
      " [0.1196 0.8804]]\n"
     ]
    },
    {
     "data": {
      "image/png": "[encoded data removed]",
      "text/plain": [
       "<Figure size 432x288 with 2 Axes>"
      ]
     },
     "metadata": {
      "needs_background": "light"
     },
     "output_type": "display_data"
    },
    {
     "data": {
      "image/png": "[encoded data removed]",
      "text/plain": [
       "<Figure size 432x288 with 2 Axes>"
      ]
     },
     "metadata": {
      "needs_background": "light"
     },
     "output_type": "display_data"
    }
   ],
   "source": [
    "from sklearn.linear_model import LogisticRegression\n",
    "from sklearn.metrics import accuracy_score\n",
    "from sklearn.model_selection import train_test_split\n",
    "\n",
    "wc_vectorizer = CountVectorizer(binary=False)\n",
    "wc_vectorizer.fit(reviews_train_clean)\n",
    "X = wc_vectorizer.transform(reviews_train_clean)\n",
    "X_test = wc_vectorizer.transform(reviews_test_clean)\n",
    "\n",
    "X_train, X_val, y_train, y_val = train_test_split(\n",
    "    X, target, train_size = 0.75, \n",
    ")\n",
    "\n",
    "for c in [0.01, 0.05, 0.25, 0.5, 1]:\n",
    "    \n",
    "    lr = LogisticRegression(C=c, max_iter = 200, n_jobs = 8)\n",
    "    lr.fit(X_train, y_train)\n",
    "    print (\"Accuracy for C=%s: %s\" \n",
    "           % (c, accuracy_score(y_val, lr.predict(X_val))))\n",
    "    print ('F1 Score: {}'.format(f1_score(y_val, lr.predict(X_val))))\n",
    "    print ()\n",
    "    \n",
    "final_wc = LogisticRegression(C=0.05, max_iter = 200, n_jobs = 8)\n",
    "final_wc.fit(X, target)\n",
    "print (\"Final Accuracy: %s\" \n",
    "       % accuracy_score(target, final_wc.predict(X_test)))\n",
    "print ('F1 Score: {}'.format(f1_score(target, final_wc.predict(X_test))))\n",
    "\n",
    "# Plot non-normalized confusion matrix\n",
    "titles_options = [(\"Confusion matrix, without normalization\", None),\n",
    "                  (\"Normalized confusion matrix\", 'true')]\n",
    "for title, normalize in titles_options:\n",
    "    disp = plot_confusion_matrix(final_wc, X_test, target,\n",
    "#                                  display_labels=class_names,\n",
    "                                 cmap=plt.cm.Blues,\n",
    "                                 normalize=normalize)\n",
    "    disp.ax_.set_title(title)\n",
    "\n",
    "    print(title)\n",
    "    print(disp.confusion_matrix)\n",
    "\n",
    "plt.show()"
   ]
  },
  {
   "cell_type": "markdown",
   "metadata": {},
   "source": [
    "The performence does not seems to be improved. In fact, it seems it is worst."
   ]
  },
  {
   "cell_type": "markdown",
   "metadata": {},
   "source": [
    "# TF-IDF"
   ]
  },
  {
   "cell_type": "markdown",
   "metadata": {},
   "source": [
    "Using TF-IDF to extract the features and logistic regression for classification. Differences with normal bag-of-word is that it calculate the importances."
   ]
  },
  {
   "cell_type": "code",
   "execution_count": 82,
   "metadata": {},
   "outputs": [
    {
     "name": "stdout",
     "output_type": "stream",
     "text": [
      "Accuracy for C=0.01: 0.788\n",
      "F1 Score: 0.7961852022765729\n",
      "\n",
      "Accuracy for C=0.05: 0.82448\n",
      "F1 Score: 0.8302645830109856\n",
      "\n",
      "Accuracy for C=0.25: 0.86848\n",
      "F1 Score: 0.8711598746081506\n",
      "\n",
      "Accuracy for C=0.5: 0.87744\n",
      "F1 Score: 0.8795597484276729\n",
      "\n",
      "Accuracy for C=1: 0.88624\n",
      "F1 Score: 0.8880138604504646\n",
      "\n",
      "Final Accuracy: 0.88336\n",
      "F1 Score: 0.8831824373047032\n",
      "Confusion matrix, without normalization\n",
      "[[11061  1439]\n",
      " [ 1477 11023]]\n",
      "Normalized confusion matrix\n",
      "[[0.88488 0.11512]\n",
      " [0.11816 0.88184]]\n"
     ]
    },
    {
     "data": {
      "image/png": "[encoded data removed]",
      "text/plain": [
       "<Figure size 432x288 with 2 Axes>"
      ]
     },
     "metadata": {
      "needs_background": "light"
     },
     "output_type": "display_data"
    },
    {
     "data": {
      "image/png": "[encoded data removed]",
      "text/plain": [
       "<Figure size 432x288 with 2 Axes>"
      ]
     },
     "metadata": {
      "needs_background": "light"
     },
     "output_type": "display_data"
    }
   ],
   "source": [
    "from sklearn.feature_extraction.text import TfidfVectorizer\n",
    "from sklearn.linear_model import LogisticRegression\n",
    "from sklearn.metrics import accuracy_score\n",
    "from sklearn.model_selection import train_test_split\n",
    "\n",
    "tfidf_vectorizer = TfidfVectorizer()\n",
    "tfidf_vectorizer.fit(reviews_train_clean)\n",
    "X = tfidf_vectorizer.transform(reviews_train_clean)\n",
    "X_test = tfidf_vectorizer.transform(reviews_test_clean)\n",
    "\n",
    "X_train, X_val, y_train, y_val = train_test_split(\n",
    "    X, target, train_size = 0.75\n",
    ")\n",
    "\n",
    "for c in [0.01, 0.05, 0.25, 0.5, 1]:\n",
    "    \n",
    "    lr = LogisticRegression(C=c, max_iter = 200, n_jobs = 8)\n",
    "    lr.fit(X_train, y_train)\n",
    "    print (\"Accuracy for C=%s: %s\" \n",
    "           % (c, accuracy_score(y_val, lr.predict(X_val))))\n",
    "    print ('F1 Score: {}'.format(f1_score(y_val, lr.predict(X_val))))\n",
    "    print ()\n",
    "    \n",
    "final_tfidf = LogisticRegression(C=1, max_iter = 200, n_jobs = 8)\n",
    "final_tfidf.fit(X, target)\n",
    "print (\"Final Accuracy: %s\" \n",
    "       % accuracy_score(target, final_tfidf.predict(X_test)))\n",
    "print ('F1 Score: {}'.format(f1_score(target, final_tfidf.predict(X_test))))\n",
    "\n",
    "# Plot non-normalized confusion matrix\n",
    "titles_options = [(\"Confusion matrix, without normalization\", None),\n",
    "                  (\"Normalized confusion matrix\", 'true')]\n",
    "for title, normalize in titles_options:\n",
    "    disp = plot_confusion_matrix(final_tfidf, X_test, target,\n",
    "#                                  display_labels=class_names,\n",
    "                                 cmap=plt.cm.Blues,\n",
    "                                 normalize=normalize)\n",
    "    disp.ax_.set_title(title)\n",
    "\n",
    "    print(title)\n",
    "    print(disp.confusion_matrix)\n",
    "\n",
    "plt.show()"
   ]
  },
  {
   "cell_type": "markdown",
   "metadata": {},
   "source": [
    "Seems TF-idf does not help. The performance is worst"
   ]
  },
  {
   "cell_type": "markdown",
   "metadata": {},
   "source": [
    "# Support Vector Machines (SVM)"
   ]
  },
  {
   "cell_type": "markdown",
   "metadata": {},
   "source": [
    "## SVM + Bigram + Logistic Regression"
   ]
  },
  {
   "cell_type": "code",
   "execution_count": 83,
   "metadata": {},
   "outputs": [
    {
     "name": "stdout",
     "output_type": "stream",
     "text": [
      "Accuracy for C=0.01: 0.89904\n",
      "F1 Score: 0.8999841496275163\n",
      "\n",
      "Accuracy for C=0.05: 0.8928\n",
      "F1 Score: 0.8934817170111288\n",
      "\n"
     ]
    },
    {
     "name": "stderr",
     "output_type": "stream",
     "text": [
      "/usr/local/lib/python3.7/site-packages/sklearn/svm/_base.py:947: ConvergenceWarning: Liblinear failed to converge, increase the number of iterations.\n",
      "  \"the number of iterations.\", ConvergenceWarning)\n"
     ]
    },
    {
     "name": "stdout",
     "output_type": "stream",
     "text": [
      "Accuracy for C=0.25: 0.8912\n",
      "F1 Score: 0.8918230989500477\n",
      "\n",
      "Accuracy for C=0.5: 0.89184\n",
      "F1 Score: 0.8924252068746021\n",
      "\n",
      "Accuracy for C=1: 0.89168\n",
      "F1 Score: 0.892283214001591\n",
      "\n",
      "Final Accuracy: 0.89932\n",
      "F1 Score: 0.8997730259228288\n",
      "Confusion matrix, without normalization\n",
      "[[11185  1315]\n",
      " [ 1202 11298]]\n",
      "Normalized confusion matrix\n",
      "[[0.8948  0.1052 ]\n",
      " [0.09616 0.90384]]\n"
     ]
    },
    {
     "data": {
      "image/png": "[encoded data removed]",
      "text/plain": [
       "<Figure size 432x288 with 2 Axes>"
      ]
     },
     "metadata": {
      "needs_background": "light"
     },
     "output_type": "display_data"
    },
    {
     "data": {
      "image/png": "[encoded data removed]",
      "text/plain": [
       "<Figure size 432x288 with 2 Axes>"
      ]
     },
     "metadata": {
      "needs_background": "light"
     },
     "output_type": "display_data"
    }
   ],
   "source": [
    "from sklearn.feature_extraction.text import CountVectorizer\n",
    "from sklearn.svm import LinearSVC\n",
    "from sklearn.metrics import accuracy_score\n",
    "from sklearn.model_selection import train_test_split\n",
    "\n",
    "ngram_vectorizer = CountVectorizer(binary=True, ngram_range=(1, 2))\n",
    "ngram_vectorizer.fit(reviews_train_clean)\n",
    "X = ngram_vectorizer.transform(reviews_train_clean)\n",
    "X_test = ngram_vectorizer.transform(reviews_test_clean)\n",
    "\n",
    "X_train, X_val, y_train, y_val = train_test_split(\n",
    "    X, target, train_size = 0.75\n",
    ")\n",
    "\n",
    "for c in [0.01, 0.05, 0.25, 0.5, 1]:\n",
    "    \n",
    "    svm = LinearSVC(C=c)\n",
    "    svm.fit(X_train, y_train)\n",
    "    print (\"Accuracy for C=%s: %s\" \n",
    "           % (c, accuracy_score(y_val, svm.predict(X_val))))\n",
    "    print ('F1 Score: {}'.format(f1_score(y_val, svm.predict(X_val))))\n",
    "    print()\n",
    "    \n",
    "# Accuracy for C=0.01: 0.89104\n",
    "# Accuracy for C=0.05: 0.88736\n",
    "# Accuracy for C=0.25: 0.8856\n",
    "# Accuracy for C=0.5: 0.88608\n",
    "# Accuracy for C=1: 0.88592\n",
    "    \n",
    "final_svm_ngram = LinearSVC(C=0.01)\n",
    "final_svm_ngram.fit(X, target)\n",
    "print (\"Final Accuracy: %s\" \n",
    "       % accuracy_score(target, final_svm_ngram.predict(X_test)))\n",
    "print ('F1 Score: {}'.format(f1_score(target, final_svm_ngram.predict(X_test))))\n",
    "\n",
    "\n",
    "# Final Accuracy: 0.8974\n",
    "\n",
    "# Plot non-normalized confusion matrix\n",
    "titles_options = [(\"Confusion matrix, without normalization\", None),\n",
    "                  (\"Normalized confusion matrix\", 'true')]\n",
    "for title, normalize in titles_options:\n",
    "    disp = plot_confusion_matrix(final_svm_ngram, X_test, target,\n",
    "#                                  display_labels=class_names,\n",
    "                                 cmap=plt.cm.Blues,\n",
    "                                 normalize=normalize)\n",
    "    disp.ax_.set_title(title)\n",
    "\n",
    "    print(title)\n",
    "    print(disp.confusion_matrix)\n",
    "\n",
    "plt.show()"
   ]
  },
  {
   "cell_type": "markdown",
   "metadata": {},
   "source": [
    "# Final Model"
   ]
  },
  {
   "cell_type": "markdown",
   "metadata": {},
   "source": [
    "## Trigram + Remove StopWords + SVM: best performance!"
   ]
  },
  {
   "cell_type": "code",
   "execution_count": 84,
   "metadata": {
    "scrolled": true
   },
   "outputs": [
    {
     "name": "stdout",
     "output_type": "stream",
     "text": [
      "Accuracy for C=0.001: 0.88256\n",
      "F1 Score: 0.8853483286472977\n",
      "\n",
      "Accuracy for C=0.005: 0.89024\n",
      "F1 Score: 0.8927119174225836\n",
      "\n",
      "Accuracy for C=0.01: 0.88992\n",
      "F1 Score: 0.8925\n",
      "\n",
      "Accuracy for C=0.05: 0.88912\n",
      "F1 Score: 0.8917018284106892\n",
      "\n",
      "Accuracy for C=0.1: 0.88928\n",
      "F1 Score: 0.891875\n",
      "\n",
      "Final Accuracy: 0.90196\n",
      "F1 Score: 0.8966805804015107\n"
     ]
    }
   ],
   "source": [
    "from sklearn.feature_extraction.text import CountVectorizer\n",
    "from sklearn.model_selection import train_test_split\n",
    "from sklearn.metrics import accuracy_score\n",
    "from sklearn.svm import LinearSVC\n",
    "\n",
    "\n",
    "stop_words = ['in', 'of', 'at', 'a', 'the']\n",
    "ngram_vectorizer = CountVectorizer(binary=True, ngram_range=(1, 3), stop_words=stop_words)\n",
    "ngram_vectorizer.fit(reviews_train_clean)\n",
    "X = ngram_vectorizer.transform(reviews_train_clean)\n",
    "X_test = ngram_vectorizer.transform(reviews_test_clean)\n",
    "\n",
    "X_train, X_val, y_train, y_val = train_test_split(\n",
    "    X, target, train_size = 0.75\n",
    ")\n",
    "\n",
    "for c in [0.001, 0.005, 0.01, 0.05, 0.1]:\n",
    "    \n",
    "    svm = LinearSVC(C=c, max_iter = 2000)\n",
    "    svm.fit(X_train, y_train)\n",
    "    print (\"Accuracy for C=%s: %s\" \n",
    "           % (c, accuracy_score(y_val, svm.predict(X_val))))\n",
    "    print ('F1 Score: {}'.format(f1_score(y_val, svm.predict(X_val))))\n",
    "    print ()\n",
    "\n",
    "    \n",
    "# Accuracy for C=0.001: 0.88784\n",
    "# Accuracy for C=0.005: 0.89456\n",
    "# Accuracy for C=0.01: 0.89376\n",
    "# Accuracy for C=0.05: 0.89264\n",
    "# Accuracy for C=0.1: 0.8928\n",
    "    \n",
    "final = LinearSVC(C=0.01, max_iter = 2000)\n",
    "final.fit(X, target)\n",
    "print (\"Final Accuracy: %s\" \n",
    "       % accuracy_score(target, final.predict(X_test)))\n",
    "print ('F1 Score: {}'.format(f1_score(target, svm.predict(X_test))))\n",
    "\n",
    "\n",
    "# Final Accuracy: 0.90064"
   ]
  },
  {
   "cell_type": "code",
   "execution_count": 85,
   "metadata": {},
   "outputs": [
    {
     "data": {
      "text/plain": [
       "5299522"
      ]
     },
     "execution_count": 85,
     "metadata": {},
     "output_type": "execute_result"
    }
   ],
   "source": [
    "# Checking the size of the features\n",
    "len(ngram_vectorizer.vocabulary_)"
   ]
  },
  {
   "cell_type": "code",
   "execution_count": 86,
   "metadata": {},
   "outputs": [
    {
     "name": "stdout",
     "output_type": "stream",
     "text": [
      "Confusion matrix, without normalization\n",
      "[[11216  1284]\n",
      " [ 1167 11333]]\n",
      "Normalized confusion matrix\n",
      "[[0.89728 0.10272]\n",
      " [0.09336 0.90664]]\n"
     ]
    },
    {
     "data": {
      "image/png": "[encoded data removed]",
      "text/plain": [
       "<Figure size 432x288 with 2 Axes>"
      ]
     },
     "metadata": {
      "needs_background": "light"
     },
     "output_type": "display_data"
    },
    {
     "data": {
      "image/png": "[encoded data removed]",
      "text/plain": [
       "<Figure size 432x288 with 2 Axes>"
      ]
     },
     "metadata": {
      "needs_background": "light"
     },
     "output_type": "display_data"
    }
   ],
   "source": [
    "# Plot non-normalized confusion matrix\n",
    "titles_options = [(\"Confusion matrix, without normalization\", None),\n",
    "                  (\"Normalized confusion matrix\", 'true')]\n",
    "for title, normalize in titles_options:\n",
    "    disp = plot_confusion_matrix(final, X_test, target,\n",
    "#                                  display_labels=class_names,\n",
    "                                 cmap=plt.cm.Blues,\n",
    "                                 normalize=normalize)\n",
    "    disp.ax_.set_title(title)\n",
    "\n",
    "    print(title)\n",
    "    print(disp.confusion_matrix)\n",
    "\n",
    "plt.show()"
   ]
  },
  {
   "cell_type": "code",
   "execution_count": 88,
   "metadata": {},
   "outputs": [
    {
     "name": "stdout",
     "output_type": "stream",
     "text": [
      "Accuracy for C=0.1: 0.6939191155077102\n",
      "F1 Score: 0.7625818099751748\n",
      "Confusion matrix, without normalization\n",
      "[[1391 1881]\n",
      " [ 223 3379]]\n",
      "Normalized confusion matrix\n",
      "[[0.42512225 0.57487775]\n",
      " [0.06191005 0.93808995]]\n"
     ]
    },
    {
     "data": {
      "image/png": "[encoded data removed]",
      "text/plain": [
       "<Figure size 432x288 with 2 Axes>"
      ]
     },
     "metadata": {
      "needs_background": "light"
     },
     "output_type": "display_data"
    },
    {
     "data": {
      "image/png": "[encoded data removed]",
      "text/plain": [
       "<Figure size 432x288 with 2 Axes>"
      ]
     },
     "metadata": {
      "needs_background": "light"
     },
     "output_type": "display_data"
    }
   ],
   "source": [
    "# Plot non-normalized confusion matrix of rotten tomato data\n",
    "rotten_tomato = ngram_vectorizer.transform(rotten_tomato_clean)\n",
    "print (\"Accuracy for C=%s: %s\" \n",
    "           % (c, accuracy_score(rotten_tomato_train_y, final.predict(rotten_tomato))))\n",
    "print ('F1 Score: {}'.format(f1_score(rotten_tomato_train_y, final.predict(rotten_tomato))))\n",
    "\n",
    "class_names = np.array([0,1])\n",
    "titles_options = [(\"Confusion matrix, without normalization\", None),\n",
    "                  (\"Normalized confusion matrix\", 'true')]\n",
    "for title, normalize in titles_options:\n",
    "    disp = plot_confusion_matrix(final, rotten_tomato,rotten_tomato_train_y,\n",
    "#                                  display_labels=class_names,\n",
    "                                 cmap=plt.cm.Blues,\n",
    "                                 normalize=normalize)\n",
    "    disp.ax_.set_title(title)\n",
    "\n",
    "    print(title)\n",
    "    print(disp.confusion_matrix)\n",
    "\n",
    "plt.show()"
   ]
  },
  {
   "cell_type": "code",
   "execution_count": 90,
   "metadata": {},
   "outputs": [
    {
     "name": "stdout",
     "output_type": "stream",
     "text": [
      "ACC: 0.8994497248624312\n",
      "F1 Score: 0.898842476094615\n",
      "Confusion matrix, without normalization\n",
      "[[905  94]\n",
      " [107 893]]\n",
      "Normalized confusion matrix\n",
      "[[0.90590591 0.09409409]\n",
      " [0.107      0.893     ]]\n"
     ]
    },
    {
     "data": {
      "image/png": "[encoded data removed]",
      "text/plain": [
       "<Figure size 432x288 with 2 Axes>"
      ]
     },
     "metadata": {
      "needs_background": "light"
     },
     "output_type": "display_data"
    },
    {
     "data": {
      "image/png": "[encoded data removed]",
      "text/plain": [
       "<Figure size 432x288 with 2 Axes>"
      ]
     },
     "metadata": {
      "needs_background": "light"
     },
     "output_type": "display_data"
    }
   ],
   "source": [
    "# Test with Tieto Data\n",
    "test = preprocess_reviews(test_data_mine)\n",
    "test = ngram_vectorizer.transform(test)\n",
    "print('ACC: {}'.format(accuracy_score(labels, final.predict(test))))\n",
    "print ('F1 Score: {}'.format(f1_score(labels, final.predict(test))))\n",
    "\n",
    "\n",
    "# Plot non-normalized confusion matrix of tieto data\n",
    "titles_options = [(\"Confusion matrix, without normalization\", None),\n",
    "                  (\"Normalized confusion matrix\", 'true')]\n",
    "for title, normalize in titles_options:\n",
    "    disp = plot_confusion_matrix(final, test,labels,\n",
    "#                                  display_labels=class_names,\n",
    "                                 cmap=plt.cm.Blues,\n",
    "                                 normalize=normalize)\n",
    "    disp.ax_.set_title(title)\n",
    "\n",
    "    print(title)\n",
    "    print(disp.confusion_matrix)\n",
    "\n",
    "plt.show()\n"
   ]
  },
  {
   "cell_type": "code",
   "execution_count": 93,
   "metadata": {},
   "outputs": [
    {
     "data": {
      "text/plain": [
       "['vectorizer.m']"
      ]
     },
     "execution_count": 93,
     "metadata": {},
     "output_type": "execute_result"
    }
   ],
   "source": [
    "# Save model\n",
    "joblib.dump(final, \"final_model.m\")\n",
    "joblib.dump(ngram_vectorizer, 'vectorizer.m')"
   ]
  },
  {
   "cell_type": "code",
   "execution_count": 29,
   "metadata": {},
   "outputs": [
    {
     "data": {
      "text/plain": [
       "0.8994497248624312"
      ]
     },
     "execution_count": 29,
     "metadata": {},
     "output_type": "execute_result"
    }
   ],
   "source": [
    "# load model and predict\n",
    "clf = joblib.load(\"final_model.m\")\n",
    "ngram_vectorizer = joblib.load(\"vectorizer.m\")\n",
    "\n",
    "test = preprocess_reviews(test_data_mine)\n",
    "test = ngram_vectorizer.transform(test)\n",
    "accuracy_score(labels, clf.predict(test))"
   ]
  },
  {
   "cell_type": "code",
   "execution_count": 91,
   "metadata": {},
   "outputs": [
    {
     "name": "stdout",
     "output_type": "stream",
     "text": [
      "['i do not like this movie']\n",
      "[1]\n",
      "['i like this movie']\n",
      "[1]\n",
      "['i do like this movie']\n",
      "[1]\n",
      "['i hate this movie']\n",
      "[1]\n"
     ]
    }
   ],
   "source": [
    "# Manual Check\n",
    "test = \"I don't like this movie!\"\n",
    "test = preprocess_reviews([test])\n",
    "print(test)\n",
    "test = ngram_vectorizer.transform(test)\n",
    "print(final.predict(test))\n",
    "\n",
    "test = \"I like this movie!\"\n",
    "test = preprocess_reviews([test])\n",
    "print(test)\n",
    "test = ngram_vectorizer.transform(test)\n",
    "print(final.predict(test))\n",
    "\n",
    "test = \"I do like this movie!\"\n",
    "test = preprocess_reviews([test])\n",
    "print(test)\n",
    "test = ngram_vectorizer.transform(test)\n",
    "print(final.predict(test))\n",
    "\n",
    "test = \"I hate this movie!\"\n",
    "test = preprocess_reviews([test])\n",
    "print(test)\n",
    "test = ngram_vectorizer.transform(test)\n",
    "print(final.predict(test))"
   ]
  },
  {
   "cell_type": "markdown",
   "metadata": {},
   "source": [
    "# Top Postitive and Negative Features"
   ]
  },
  {
   "cell_type": "code",
   "execution_count": 92,
   "metadata": {},
   "outputs": [
    {
     "name": "stdout",
     "output_type": "stream",
     "text": [
      "('excellent', 0.22856560851153457)\n",
      "('perfect', 0.1814803976363972)\n",
      "('great', 0.17552063048793384)\n",
      "('wonderful', 0.1557001400688963)\n",
      "('amazing', 0.152493449951549)\n",
      "('superb', 0.14798841059535547)\n",
      "('enjoyable', 0.14315524452125508)\n",
      "('today', 0.13100761748401024)\n",
      "('best', 0.12939022363482516)\n",
      "('enjoyed', 0.12693336517807846)\n",
      "('fun', 0.12682941481287002)\n",
      "('must see', 0.11687501909187659)\n",
      "('loved', 0.11541360103014794)\n",
      "('brilliant', 0.11398171780399896)\n",
      "('funniest', 0.11063217177665184)\n",
      "('fantastic', 0.11012884853972037)\n",
      "('liked', 0.11010862995891685)\n",
      "('incredible', 0.10962003856541618)\n",
      "('better than', 0.10655745946824736)\n",
      "('wonderfully', 0.10628912024086082)\n",
      "('beautiful', 0.10514420202781224)\n",
      "('watch it', 0.10457394968565796)\n",
      "('bit', 0.10363344865573001)\n",
      "('job', 0.10199230258374725)\n",
      "('rare', 0.1010248063058706)\n",
      "('well worth', 0.09815901747353138)\n",
      "('highly', 0.09753885827249344)\n",
      "('love', 0.0970825801653131)\n",
      "('moving', 0.09669751666059224)\n",
      "('very good', 0.09607136322258586)\n",
      "\n",
      "\n",
      "\n",
      "('worst', -0.35617261674103606)\n",
      "('awful', -0.25292279491651465)\n",
      "('boring', -0.2387108884869033)\n",
      "('waste', -0.23008794078947764)\n",
      "('bad', -0.22222374998010921)\n",
      "('poor', -0.2008237459737835)\n",
      "('terrible', -0.19460281738842036)\n",
      "('dull', -0.18236730257365097)\n",
      "('disappointment', -0.17443022261439128)\n",
      "('disappointing', -0.17174856335059072)\n",
      "('poorly', -0.16873123677046803)\n",
      "('worse', -0.1546574031539715)\n",
      "('unfortunately', -0.15350383008061327)\n",
      "('stupid', -0.15322431752537802)\n",
      "('horrible', -0.14971919805765654)\n",
      "('mess', -0.14779474233010673)\n",
      "('not worth', -0.13997856542535297)\n",
      "('nothing', -0.1360740738965557)\n",
      "('lacks', -0.13530785955518151)\n",
      "('lame', -0.13188070495804932)\n",
      "('save', -0.13140166162946823)\n",
      "('oh', -0.13117013885421014)\n",
      "('avoid', -0.12911527423539093)\n",
      "('ridiculous', -0.12751860745013027)\n",
      "('annoying', -0.1266087547447059)\n",
      "('script', -0.12651017437532083)\n",
      "('weak', -0.12432459068887725)\n",
      "('fails', -0.12270875466128714)\n",
      "('badly', -0.12218061434904429)\n",
      "('not good', -0.11911737809034996)\n"
     ]
    }
   ],
   "source": [
    "feature_to_coef = {\n",
    "    word: coef for word, coef in zip(\n",
    "        ngram_vectorizer.get_feature_names(), final.coef_[0]\n",
    "    )\n",
    "}\n",
    "\n",
    "for best_positive in sorted(\n",
    "    feature_to_coef.items(), \n",
    "    key=lambda x: x[1], \n",
    "    reverse=True)[:30]:\n",
    "    print (best_positive)\n",
    "    \n",
    "print(\"\\n\\n\")\n",
    "for best_negative in sorted(\n",
    "    feature_to_coef.items(), \n",
    "    key=lambda x: x[1])[:30]:\n",
    "    print (best_negative)"
   ]
  }
 ],
 "metadata": {
  "kernelspec": {
   "display_name": "Python 3",
   "language": "python",
   "name": "python3"
  },
  "language_info": {
   "codemirror_mode": {
    "name": "ipython",
    "version": 3
   },
   "file_extension": ".py",
   "mimetype": "text/x-python",
   "name": "python",
   "nbconvert_exporter": "python",
   "pygments_lexer": "ipython3",
   "version": "3.7.4"
  }
 },
 "nbformat": 4,
 "nbformat_minor": 2
}
